{
 "cells": [
  {
   "cell_type": "markdown",
   "metadata": {},
   "source": [
    "# Tour de Learning Classifers\n",
    "## 3-1 Training a Perceptron via Scikit Learn"
   ]
  },
  {
   "cell_type": "code",
   "execution_count": 1,
   "metadata": {},
   "outputs": [
    {
     "name": "stderr",
     "output_type": "stream",
     "text": [
      "/anaconda/lib/python2.7/site-packages/sklearn/cross_validation.py:44: DeprecationWarning: This module was deprecated in version 0.18 in favor of the model_selection module into which all the refactored classes and functions are moved. Also note that the interface of the new CV iterators are different from that of this module. This module will be removed in 0.20.\n",
      "  \"This module will be removed in 0.20.\", DeprecationWarning)\n"
     ]
    }
   ],
   "source": [
    "from sklearn import datasets\n",
    "import numpy as np\n",
    "\n",
    "###### Data Prep #####\n",
    "iris = datasets.load_iris()\n",
    "x = iris.data[:, [2,3]]\n",
    "y = iris.target\n",
    "\n",
    "#simple 70/30 train/test random splitting\n",
    "from sklearn.cross_validation import train_test_split\n",
    "x_train, x_test, y_train, y_test = train_test_split(x, y, test_size=0.3, random_state=0)\n",
    "\n",
    "#Applying feature scaling to data set\n",
    "## Example: http://scikit-learn.org/stable/auto_examples/preprocessing/plot_scaling_importance.html\n",
    "from sklearn.preprocessing import StandardScaler\n",
    "sc = StandardScaler()\n",
    "sc.fit(x_train)\n",
    "x_train_std = sc.transform(x_train)\n",
    "x_test_std = sc.transform(x_test)"
   ]
  },
  {
   "cell_type": "code",
   "execution_count": 2,
   "metadata": {},
   "outputs": [
    {
     "name": "stdout",
     "output_type": "stream",
     "text": [
      "Misclassified samples: 4\n",
      "Accuracy Score: 91.0%\n",
      "Accuracy Score de sklearn: 0.91\n"
     ]
    }
   ],
   "source": [
    "\n",
    "##### Perceptron #######\n",
    "# One-vs-Rest OvR method for multiclass classification\n",
    "## Decides whether an input, represented by a vector of numbers, belongs to some specific class or not\n",
    "\n",
    "from sklearn.linear_model import Perceptron\n",
    "ppn = Perceptron(n_iter=40, eta0=0.1, random_state=0)\n",
    "\n",
    "# now train via the fit method #\n",
    "ppn.fit(x_train_std, y_train)\n",
    "\n",
    "# predict #\n",
    "## %d is placeholder for number / %s placeholder for string\n",
    "y_pred = ppn.predict(x_test_std)\n",
    "print('Misclassified samples: %d' % (y_test != y_pred).sum())\n",
    "print 'Accuracy Score: ' + str((1.0-((y_test != y_pred).sum()*1.0)/(y_test.size*1.0)).round(2)*100) + '%'\n",
    "#or import default performance metrics\n",
    "from sklearn.metrics import accuracy_score\n",
    "print('Accuracy Score de sklearn: %.2f' % accuracy_score(y_test, y_pred))\n",
    "#PSA: need to beware of over-fitting!"
   ]
  },
  {
   "cell_type": "code",
   "execution_count": 3,
   "metadata": {},
   "outputs": [
    {
     "data": {
      "image/png": "[encoded data removed]",
      "text/plain": [
       "<matplotlib.figure.Figure at 0x1158d5450>"
      ]
     },
     "metadata": {},
     "output_type": "display_data"
    }
   ],
   "source": [
    "\n",
    "##### Visualize Decision Regions of Perceptron #####\n",
    "from matplotlib.colors import ListedColormap\n",
    "import matplotlib.pyplot as plt\n",
    "\n",
    "# setup marker generator and color map #\n",
    "def plot_decision_regions(x, y, classifier, test_idx=None, resolution=0.02):\n",
    "\n",
    "    markers = ('s','x','o','^','v')\n",
    "    colors = ('red', 'blue', 'lightgreen', 'gray', 'cyan')\n",
    "    cmap = ListedColormap(colors[:len(np.unique(y))])\n",
    "\n",
    "    # plot the decision surface #\n",
    "    x1_min, x1_max = x[:,0].min()-1,x[:,0].max()+1\n",
    "    x2_min, x2_max = x[:,1].min()-1,x[:,1].max()+1\n",
    "    xx1, xx2 = np.meshgrid(np.arange(x1_min,x1_max, resolution),\n",
    "                           np.arange(x2_min,x2_max, resolution))\n",
    "    z = classifier.predict(np.array([xx1.ravel(),xx2.ravel()]).T)\n",
    "    z = z.reshape(xx1.shape)\n",
    "    plt.contourf(xx1,xx2,z,alpha=0.4,cmap=cmap)\n",
    "    plt.xlim(xx1.min(),xx1.max())\n",
    "    plt.ylim(xx2.min(),xx2.max())\n",
    "\n",
    "    # plot los samples #\n",
    "    for idx, cl in enumerate(np.unique(y)):\n",
    "        plt.scatter(x=x[y==cl,0],y=x[y==cl,1],\n",
    "                    alpha=0.8,\n",
    "                    c=cmap(idx),\n",
    "                    marker=markers[idx],\n",
    "                    label=cl)\n",
    "\n",
    "    # highlight test samples #\n",
    "    if test_idx:\n",
    "        x_test, y_test = x[test_idx,:],y[test_idx]\n",
    "        plt.scatter(x_test[:,0],x_test[:,1],\n",
    "                    c='',\n",
    "                    alpha=1.0,\n",
    "                    linewidths=1,\n",
    "                    marker='o',\n",
    "                    s=55,\n",
    "                    label='test set')\n",
    "    \n",
    "# Now specify indices for plt #\n",
    "x_combined_std = np.vstack((x_train_std,x_test_std))\n",
    "y_combined = np.hstack((y_train,y_test))\n",
    "plot_decision_regions(x=x_combined_std,\n",
    "                     y=y_combined,\n",
    "                     classifier=ppn,\n",
    "                     test_idx=range(105,150))\n",
    "plt.xlabel('petal length [standardized]')\n",
    "plt.ylabel('petal width [standardized]')\n",
    "plt.legend(loc='upper left')\n",
    "plt.show()\n",
    "\n"
   ]
  },
  {
   "cell_type": "markdown",
   "metadata": {},
   "source": [
    "# Tour de Learning Classifers\n",
    "## 3-2 Modeling class probabilities via logistic regression\n",
    "\n",
    "logit(p) = log${\\frac{p}{1-p}}$\n",
    "\n",
    "inverse logit becomes logistic: $\\phi(z)={\\frac{1}{1+e^{-z}}}$"
   ]
  },
  {
   "cell_type": "markdown",
   "metadata": {},
   "source": [
    "### Plot Sigmoid function (inverse logit aka logistic) to see how it looks\n",
    "$\\phi\\to 1$ as $z\\to\\infty$"
   ]
  },
  {
   "cell_type": "code",
   "execution_count": 4,
   "metadata": {},
   "outputs": [
    {
     "data": {
      "image/png": "[encoded data removed]",
      "text/plain": [
       "<matplotlib.figure.Figure at 0x11194fc50>"
      ]
     },
     "metadata": {},
     "output_type": "display_data"
    }
   ],
   "source": [
    "import matplotlib.pyplot as plt\n",
    "import numpy as np\n",
    "def sigmoid(z):\n",
    "    return 1.0/(1.0 + np.exp(-z))\n",
    "z=np.arange(-7,7,0.1)\n",
    "phi_z = sigmoid(z)\n",
    "plt.plot(z,phi_z)\n",
    "plt.axvline(0.0,color='k')\n",
    "plt.axhspan(0.0,1.0,facecolor='1.0',alpha=1.0,ls='dotted')\n",
    "plt.axhline(y=0.5,ls='dotted',color='k')\n",
    "plt.yticks([0.0,0.5,1.0])\n",
    "plt.ylim(-0.1,1.1)\n",
    "plt.xlabel('z')\n",
    "plt.ylabel('$\\phi (z)$')\n",
    "plt.show()\n"
   ]
  },
  {
   "cell_type": "markdown",
   "metadata": {},
   "source": [
    "### Training a logistic with scikit-learn"
   ]
  },
  {
   "cell_type": "code",
   "execution_count": 6,
   "metadata": {},
   "outputs": [
    {
     "data": {
      "image/png": "[encoded data removed]",
      "text/plain": [
       "<matplotlib.figure.Figure at 0x109ba1f50>"
      ]
     },
     "metadata": {},
     "output_type": "display_data"
    }
   ],
   "source": [
    "from sklearn.linear_model import LogisticRegression\n",
    "#C is mysterious parameter being defined\n",
    "#random_state=0 \n",
    "lr = LogisticRegression(C=1000.0, random_state=0)\n",
    "lr.fit(x_train_std,y_train)\n",
    "plot_decision_regions(x_combined_std,\n",
    "                     y_combined,\n",
    "                     classifier=lr,\n",
    "                     test_idx=range(105,150))\n",
    "plt.xlabel('petal length [standardized]')\n",
    "plt.ylabel('petal width [standardized]')\n",
    "plt.legend(loc='upper left')\n",
    "plt.show()"
   ]
  },
  {
   "cell_type": "code",
   "execution_count": 8,
   "metadata": {},
   "outputs": [
    {
     "name": "stderr",
     "output_type": "stream",
     "text": [
      "/anaconda/lib/python2.7/site-packages/sklearn/utils/validation.py:395: DeprecationWarning: Passing 1d arrays as data is deprecated in 0.17 and will raise ValueError in 0.19. Reshape your data either using X.reshape(-1, 1) if your data has a single feature or X.reshape(1, -1) if it contains a single sample.\n",
      "  DeprecationWarning)\n"
     ]
    },
    {
     "data": {
      "text/plain": [
       "array([[  2.05743774e-11,   6.31620264e-02,   9.36837974e-01]])"
      ]
     },
     "execution_count": 8,
     "metadata": {},
     "output_type": "execute_result"
    }
   ],
   "source": [
    "# Display prediction probabilities #\n",
    "lr.predict_proba(x_test_std[0,:])"
   ]
  },
  {
   "cell_type": "markdown",
   "metadata": {},
   "source": [
    "### Tracking overfitting via regularization"
   ]
  },
  {
   "cell_type": "code",
   "execution_count": null,
   "metadata": {},
   "outputs": [],
   "source": []
  }
 ],
 "metadata": {
  "kernelspec": {
   "display_name": "Python 2",
   "language": "python",
   "name": "python2"
  },
  "language_info": {
   "codemirror_mode": {
    "name": "ipython",
    "version": 2
   },
   "file_extension": ".py",
   "mimetype": "text/x-python",
   "name": "python",
   "nbconvert_exporter": "python",
   "pygments_lexer": "ipython2",
   "version": "2.7.13"
  }
 },
 "nbformat": 4,
 "nbformat_minor": 2
}
