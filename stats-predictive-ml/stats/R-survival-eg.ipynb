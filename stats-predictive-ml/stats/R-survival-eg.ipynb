{
 "cells": [
  {
   "cell_type": "code",
   "execution_count": 1,
   "metadata": {
    "scrolled": false
   },
   "outputs": [
    {
     "name": "stderr",
     "output_type": "stream",
     "text": [
      "Loading required package: ggplot2\n",
      "Loading required package: ggpubr\n",
      "Loading required package: magrittr\n",
      "\n",
      "Attaching package: 'dplyr'\n",
      "\n",
      "The following objects are masked from 'package:stats':\n",
      "\n",
      "    filter, lag\n",
      "\n",
      "The following objects are masked from 'package:base':\n",
      "\n",
      "    intersect, setdiff, setequal, union\n",
      "\n"
     ]
    }
   ],
   "source": [
    "# Load required packages\n",
    "library(survival)\n",
    "library(survminer)\n",
    "library(dplyr)"
   ]
  },
  {
   "cell_type": "code",
   "execution_count": 4,
   "metadata": {
    "scrolled": true
   },
   "outputs": [
    {
     "data": {
      "text/html": [
       "<table>\n",
       "<thead><tr><th scope=col>futime</th><th scope=col>fustat</th><th scope=col>age</th><th scope=col>resid.ds</th><th scope=col>rx</th><th scope=col>ecog.ps</th></tr></thead>\n",
       "<tbody>\n",
       "\t<tr><td> 59    </td><td>1      </td><td>72.3315</td><td>2      </td><td>1      </td><td>1      </td></tr>\n",
       "\t<tr><td>115    </td><td>1      </td><td>74.4932</td><td>2      </td><td>1      </td><td>1      </td></tr>\n",
       "\t<tr><td>156    </td><td>1      </td><td>66.4658</td><td>2      </td><td>1      </td><td>2      </td></tr>\n",
       "\t<tr><td>421    </td><td>0      </td><td>53.3644</td><td>2      </td><td>2      </td><td>1      </td></tr>\n",
       "\t<tr><td>431    </td><td>1      </td><td>50.3397</td><td>2      </td><td>1      </td><td>1      </td></tr>\n",
       "\t<tr><td>448    </td><td>0      </td><td>56.4301</td><td>1      </td><td>1      </td><td>2      </td></tr>\n",
       "</tbody>\n",
       "</table>\n"
      ],
      "text/latex": [
       "\\begin{tabular}{r|llllll}\n",
       " futime & fustat & age & resid.ds & rx & ecog.ps\\\\\n",
       "\\hline\n",
       "\t  59     & 1       & 72.3315 & 2       & 1       & 1      \\\\\n",
       "\t 115     & 1       & 74.4932 & 2       & 1       & 1      \\\\\n",
       "\t 156     & 1       & 66.4658 & 2       & 1       & 2      \\\\\n",
       "\t 421     & 0       & 53.3644 & 2       & 2       & 1      \\\\\n",
       "\t 431     & 1       & 50.3397 & 2       & 1       & 1      \\\\\n",
       "\t 448     & 0       & 56.4301 & 1       & 1       & 2      \\\\\n",
       "\\end{tabular}\n"
      ],
      "text/markdown": [
       "\n",
       "| futime | fustat | age | resid.ds | rx | ecog.ps |\n",
       "|---|---|---|---|---|---|\n",
       "|  59     | 1       | 72.3315 | 2       | 1       | 1       |\n",
       "| 115     | 1       | 74.4932 | 2       | 1       | 1       |\n",
       "| 156     | 1       | 66.4658 | 2       | 1       | 2       |\n",
       "| 421     | 0       | 53.3644 | 2       | 2       | 1       |\n",
       "| 431     | 1       | 50.3397 | 2       | 1       | 1       |\n",
       "| 448     | 0       | 56.4301 | 1       | 1       | 2       |\n",
       "\n"
      ],
      "text/plain": [
       "  futime fustat age     resid.ds rx ecog.ps\n",
       "1  59    1      72.3315 2        1  1      \n",
       "2 115    1      74.4932 2        1  1      \n",
       "3 156    1      66.4658 2        1  2      \n",
       "4 421    0      53.3644 2        2  1      \n",
       "5 431    1      50.3397 2        1  1      \n",
       "6 448    0      56.4301 1        1  2      "
      ]
     },
     "metadata": {},
     "output_type": "display_data"
    }
   ],
   "source": [
    "data(ovarian)\n",
    "head(ovarian)"
   ]
  },
  {
   "cell_type": "code",
   "execution_count": 5,
   "metadata": {},
   "outputs": [],
   "source": [
    "ovarian$rx <- factor(ovarian$rx, \n",
    "                     levels = c(\"1\", \"2\"), \n",
    "                     labels = c(\"A\", \"B\"))\n",
    "ovarian$resid.ds <- factor(ovarian$resid.ds, \n",
    "                           levels = c(\"1\", \"2\"), \n",
    "                           labels = c(\"no\", \"yes\"))\n",
    "ovarian$ecog.ps <- factor(ovarian$ecog.ps, \n",
    "                          levels = c(\"1\", \"2\"), \n",
    "                          labels = c(\"good\", \"bad\"))"
   ]
  },
  {
   "cell_type": "code",
   "execution_count": 6,
   "metadata": {
    "scrolled": true
   },
   "outputs": [
    {
     "data": {
      "image/png": "[encoded data removed]",
      "text/plain": [
       "Plot with title \"Histogram of ovarian$age\""
      ]
     },
     "metadata": {},
     "output_type": "display_data"
    }
   ],
   "source": [
    "hist(ovarian$age) "
   ]
  },
  {
   "cell_type": "code",
   "execution_count": 7,
   "metadata": {},
   "outputs": [],
   "source": [
    "ovarian <- ovarian %>% mutate(age_group = ifelse(age >=50, \"old\", \"young\"))\n",
    "ovarian$age_group <- factor(ovarian$age_group)"
   ]
  },
  {
   "cell_type": "code",
   "execution_count": null,
   "metadata": {},
   "outputs": [],
   "source": [
    "surv_object <- Surv(time = ovarian$futime, event = ovarian$fustat)\n",
    "surv_object "
   ]
  }
 ],
 "metadata": {
  "kernelspec": {
   "display_name": "R",
   "language": "R",
   "name": "ir"
  },
  "language_info": {
   "codemirror_mode": "r",
   "file_extension": ".r",
   "mimetype": "text/x-r-source",
   "name": "R",
   "pygments_lexer": "r",
   "version": "3.5.2"
  }
 },
 "nbformat": 4,
 "nbformat_minor": 2
}
