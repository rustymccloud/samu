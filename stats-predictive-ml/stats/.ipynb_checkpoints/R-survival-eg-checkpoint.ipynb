{
 "cells": [
  {
   "cell_type": "markdown",
   "metadata": {},
   "source": [
    "### Surival Analysis in R\n",
    "https://www.datacamp.com/community/tutorials/survival-analysis-R"
   ]
  },
  {
   "cell_type": "code",
   "execution_count": 31,
   "metadata": {
    "scrolled": false
   },
   "outputs": [],
   "source": [
    "# Load required packages\n",
    "library(survival)\n",
    "library(survminer)\n",
    "library(dplyr)"
   ]
  },
  {
   "cell_type": "code",
   "execution_count": 32,
   "metadata": {
    "scrolled": true
   },
   "outputs": [
    {
     "data": {
      "text/html": [
       "<table>\n",
       "<thead><tr><th scope=col>futime</th><th scope=col>fustat</th><th scope=col>age</th><th scope=col>resid.ds</th><th scope=col>rx</th><th scope=col>ecog.ps</th></tr></thead>\n",
       "<tbody>\n",
       "\t<tr><td> 59    </td><td>1      </td><td>72.3315</td><td>2      </td><td>1      </td><td>1      </td></tr>\n",
       "\t<tr><td>115    </td><td>1      </td><td>74.4932</td><td>2      </td><td>1      </td><td>1      </td></tr>\n",
       "\t<tr><td>156    </td><td>1      </td><td>66.4658</td><td>2      </td><td>1      </td><td>2      </td></tr>\n",
       "\t<tr><td>421    </td><td>0      </td><td>53.3644</td><td>2      </td><td>2      </td><td>1      </td></tr>\n",
       "\t<tr><td>431    </td><td>1      </td><td>50.3397</td><td>2      </td><td>1      </td><td>1      </td></tr>\n",
       "\t<tr><td>448    </td><td>0      </td><td>56.4301</td><td>1      </td><td>1      </td><td>2      </td></tr>\n",
       "</tbody>\n",
       "</table>\n"
      ],
      "text/latex": [
       "\\begin{tabular}{r|llllll}\n",
       " futime & fustat & age & resid.ds & rx & ecog.ps\\\\\n",
       "\\hline\n",
       "\t  59     & 1       & 72.3315 & 2       & 1       & 1      \\\\\n",
       "\t 115     & 1       & 74.4932 & 2       & 1       & 1      \\\\\n",
       "\t 156     & 1       & 66.4658 & 2       & 1       & 2      \\\\\n",
       "\t 421     & 0       & 53.3644 & 2       & 2       & 1      \\\\\n",
       "\t 431     & 1       & 50.3397 & 2       & 1       & 1      \\\\\n",
       "\t 448     & 0       & 56.4301 & 1       & 1       & 2      \\\\\n",
       "\\end{tabular}\n"
      ],
      "text/markdown": [
       "\n",
       "| futime | fustat | age | resid.ds | rx | ecog.ps |\n",
       "|---|---|---|---|---|---|\n",
       "|  59     | 1       | 72.3315 | 2       | 1       | 1       |\n",
       "| 115     | 1       | 74.4932 | 2       | 1       | 1       |\n",
       "| 156     | 1       | 66.4658 | 2       | 1       | 2       |\n",
       "| 421     | 0       | 53.3644 | 2       | 2       | 1       |\n",
       "| 431     | 1       | 50.3397 | 2       | 1       | 1       |\n",
       "| 448     | 0       | 56.4301 | 1       | 1       | 2       |\n",
       "\n"
      ],
      "text/plain": [
       "  futime fustat age     resid.ds rx ecog.ps\n",
       "1  59    1      72.3315 2        1  1      \n",
       "2 115    1      74.4932 2        1  1      \n",
       "3 156    1      66.4658 2        1  2      \n",
       "4 421    0      53.3644 2        2  1      \n",
       "5 431    1      50.3397 2        1  1      \n",
       "6 448    0      56.4301 1        1  2      "
      ]
     },
     "metadata": {},
     "output_type": "display_data"
    }
   ],
   "source": [
    "data(ovarian)\n",
    "head(ovarian)"
   ]
  },
  {
   "cell_type": "code",
   "execution_count": 33,
   "metadata": {},
   "outputs": [],
   "source": [
    "ovarian$rx <- factor(ovarian$rx, \n",
    "                     levels = c(\"1\", \"2\"), \n",
    "                     labels = c(\"A\", \"B\"))\n",
    "ovarian$resid.ds <- factor(ovarian$resid.ds, \n",
    "                           levels = c(\"1\", \"2\"), \n",
    "                           labels = c(\"no\", \"yes\"))\n",
    "ovarian$ecog.ps <- factor(ovarian$ecog.ps, \n",
    "                          levels = c(\"1\", \"2\"), \n",
    "                          labels = c(\"good\", \"bad\"))"
   ]
  },
  {
   "cell_type": "code",
   "execution_count": 34,
   "metadata": {
    "scrolled": false
   },
   "outputs": [
    {
     "data": {
      "image/png": "[encoded data removed]",
      "text/plain": [
       "Plot with title \"Histogram of ovarian$age\""
      ]
     },
     "metadata": {},
     "output_type": "display_data"
    }
   ],
   "source": [
    "options(repr.plot.height=4)\n",
    "hist(ovarian$age) "
   ]
  },
  {
   "cell_type": "code",
   "execution_count": 35,
   "metadata": {},
   "outputs": [],
   "source": [
    "ovarian <- ovarian %>% mutate(age_group = ifelse(age >=50, \"old\", \"young\"))\n",
    "ovarian$age_group <- factor(ovarian$age_group)"
   ]
  },
  {
   "cell_type": "code",
   "execution_count": 36,
   "metadata": {},
   "outputs": [
    {
     "data": {
      "text/plain": [
       " [1]   59   115   156   421+  431   448+  464   475   477+  563   638   744+\n",
       "[13]  769+  770+  803+  855+ 1040+ 1106+ 1129+ 1206+ 1227+  268   329   353 \n",
       "[25]  365   377+"
      ]
     },
     "metadata": {},
     "output_type": "display_data"
    }
   ],
   "source": [
    "surv_object <- Surv(time = ovarian$futime, event = ovarian$fustat)\n",
    "surv_object "
   ]
  },
  {
   "cell_type": "code",
   "execution_count": 37,
   "metadata": {},
   "outputs": [
    {
     "data": {
      "text/plain": [
       "Call: survfit(formula = surv_object ~ rx, data = ovarian)\n",
       "\n",
       "                rx=A \n",
       " time n.risk n.event survival std.err lower 95% CI upper 95% CI\n",
       "   59     13       1    0.923  0.0739        0.789        1.000\n",
       "  115     12       1    0.846  0.1001        0.671        1.000\n",
       "  156     11       1    0.769  0.1169        0.571        1.000\n",
       "  268     10       1    0.692  0.1280        0.482        0.995\n",
       "  329      9       1    0.615  0.1349        0.400        0.946\n",
       "  431      8       1    0.538  0.1383        0.326        0.891\n",
       "  638      5       1    0.431  0.1467        0.221        0.840\n",
       "\n",
       "                rx=B \n",
       " time n.risk n.event survival std.err lower 95% CI upper 95% CI\n",
       "  353     13       1    0.923  0.0739        0.789        1.000\n",
       "  365     12       1    0.846  0.1001        0.671        1.000\n",
       "  464      9       1    0.752  0.1256        0.542        1.000\n",
       "  475      8       1    0.658  0.1407        0.433        1.000\n",
       "  563      7       1    0.564  0.1488        0.336        0.946\n"
      ]
     },
     "metadata": {},
     "output_type": "display_data"
    }
   ],
   "source": [
    "fit1 <- survfit(surv_object ~ rx, data = ovarian)\n",
    "summary(fit1)"
   ]
  },
  {
   "cell_type": "code",
   "execution_count": 38,
   "metadata": {
    "scrolled": false
   },
   "outputs": [
    {
     "data": {
      "image/png": "[encoded data removed]",
      "text/plain": [
       "plot without title"
      ]
     },
     "metadata": {},
     "output_type": "display_data"
    }
   ],
   "source": [
    "ggsurvplot(fit1, data = ovarian, pval = TRUE)"
   ]
  },
  {
   "cell_type": "code",
   "execution_count": 39,
   "metadata": {
    "scrolled": false
   },
   "outputs": [
    {
     "data": {
      "image/png": "[encoded data removed]",
      "text/plain": [
       "plot without title"
      ]
     },
     "metadata": {},
     "output_type": "display_data"
    }
   ],
   "source": [
    "fit2 <- survfit(surv_object ~ resid.ds, data = ovarian)\n",
    "ggsurvplot(fit2, data = ovarian, pval = TRUE)"
   ]
  },
  {
   "cell_type": "code",
   "execution_count": 40,
   "metadata": {
    "scrolled": false
   },
   "outputs": [
    {
     "name": "stderr",
     "output_type": "stream",
     "text": [
      "Warning message:\n",
      "\"Removed 4 rows containing missing values (geom_errorbar).\""
     ]
    },
    {
     "data": {
      "image/png": "[encoded data removed]",
      "text/plain": [
       "plot without title"
      ]
     },
     "metadata": {},
     "output_type": "display_data"
    }
   ],
   "source": [
    "fit.coxph <- coxph(surv_object ~ rx + resid.ds + age_group + ecog.ps, \n",
    "                   data = ovarian)\n",
    "ggforest(fit.coxph, data = ovarian)"
   ]
  },
  {
   "cell_type": "code",
   "execution_count": null,
   "metadata": {},
   "outputs": [],
   "source": []
  }
 ],
 "metadata": {
  "kernelspec": {
   "display_name": "R",
   "language": "R",
   "name": "ir"
  },
  "language_info": {
   "codemirror_mode": "r",
   "file_extension": ".r",
   "mimetype": "text/x-r-source",
   "name": "R",
   "pygments_lexer": "r",
   "version": "3.5.2"
  }
 },
 "nbformat": 4,
 "nbformat_minor": 2
}
