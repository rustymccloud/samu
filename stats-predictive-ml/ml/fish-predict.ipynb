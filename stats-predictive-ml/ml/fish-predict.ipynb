{
 "cells": [
  {
   "cell_type": "markdown",
   "metadata": {},
   "source": [
    "# <center>A simple random forest approach predicting fish survival</center> #\n",
    "<center><img src = \"jup.png\" style=\"height: 50px;\"/> + <img src = \"salmon.jpg\" style=\"height: 50px;\"/> + <img src=\"rf.png\" style=\"height: 50px;\"/></center>\n",
    "<center>(only 13 lines of code!)</center>"
   ]
  },
  {
   "cell_type": "markdown",
   "metadata": {},
   "source": [
    "### Import Necessary Python Packages (Pandas, NumPy, Scikit-learn)"
   ]
  },
  {
   "cell_type": "code",
   "execution_count": 6,
   "metadata": {},
   "outputs": [],
   "source": [
    "import pandas as pd\n",
    "import numpy as np\n",
    "\n",
    "from IPython.display import Image\n",
    "\n",
    "import matplotlib.pyplot as plt\n",
    "\n",
    "from sklearn.ensemble  import RandomForestClassifier\n",
    "from sklearn.metrics import accuracy_score,roc_auc_score\n",
    "\n",
    "%matplotlib inline"
   ]
  },
  {
   "cell_type": "markdown",
   "metadata": {},
   "source": [
    "### Import CSV from Exported from Snowflake"
   ]
  },
  {
   "cell_type": "code",
   "execution_count": 25,
   "metadata": {},
   "outputs": [
    {
     "data": {
      "text/html": [
       "<div>\n",
       "<style scoped>\n",
       "    .dataframe tbody tr th:only-of-type {\n",
       "        vertical-align: middle;\n",
       "    }\n",
       "\n",
       "    .dataframe tbody tr th {\n",
       "        vertical-align: top;\n",
       "    }\n",
       "\n",
       "    .dataframe thead th {\n",
       "        text-align: right;\n",
       "    }\n",
       "</style>\n",
       "<table border=\"1\" class=\"dataframe\">\n",
       "  <thead>\n",
       "    <tr style=\"text-align: right;\">\n",
       "      <th></th>\n",
       "      <th>TAG_CODE</th>\n",
       "      <th>CAPTURE_CODE</th>\n",
       "      <th>MARCH_FLAG</th>\n",
       "      <th>APR_FLAG</th>\n",
       "      <th>MAY_FLAG</th>\n",
       "      <th>JUNE_FLAG</th>\n",
       "      <th>JULY_FLAG</th>\n",
       "      <th>AUGUST_FLAG</th>\n",
       "      <th>SEP_FLAG</th>\n",
       "      <th>SOCKEYE_FLAG</th>\n",
       "      <th>HATCHERY_REARED</th>\n",
       "      <th>SS_FLAG</th>\n",
       "      <th>LENGTH_MM</th>\n",
       "    </tr>\n",
       "  </thead>\n",
       "  <tbody>\n",
       "    <tr>\n",
       "      <th>0</th>\n",
       "      <td>3DD.003C09978A</td>\n",
       "      <td>1</td>\n",
       "      <td>0</td>\n",
       "      <td>0</td>\n",
       "      <td>0</td>\n",
       "      <td>0</td>\n",
       "      <td>0</td>\n",
       "      <td>0</td>\n",
       "      <td>1</td>\n",
       "      <td>1</td>\n",
       "      <td>1</td>\n",
       "      <td>1</td>\n",
       "      <td>102</td>\n",
       "    </tr>\n",
       "    <tr>\n",
       "      <th>1</th>\n",
       "      <td>3DD.003C099940</td>\n",
       "      <td>1</td>\n",
       "      <td>0</td>\n",
       "      <td>0</td>\n",
       "      <td>0</td>\n",
       "      <td>0</td>\n",
       "      <td>0</td>\n",
       "      <td>0</td>\n",
       "      <td>1</td>\n",
       "      <td>1</td>\n",
       "      <td>1</td>\n",
       "      <td>1</td>\n",
       "      <td>97</td>\n",
       "    </tr>\n",
       "    <tr>\n",
       "      <th>2</th>\n",
       "      <td>3DD.003C099A9D</td>\n",
       "      <td>1</td>\n",
       "      <td>0</td>\n",
       "      <td>0</td>\n",
       "      <td>0</td>\n",
       "      <td>0</td>\n",
       "      <td>0</td>\n",
       "      <td>0</td>\n",
       "      <td>1</td>\n",
       "      <td>1</td>\n",
       "      <td>1</td>\n",
       "      <td>1</td>\n",
       "      <td>101</td>\n",
       "    </tr>\n",
       "    <tr>\n",
       "      <th>3</th>\n",
       "      <td>3DD.003C099525</td>\n",
       "      <td>1</td>\n",
       "      <td>0</td>\n",
       "      <td>0</td>\n",
       "      <td>0</td>\n",
       "      <td>0</td>\n",
       "      <td>0</td>\n",
       "      <td>0</td>\n",
       "      <td>1</td>\n",
       "      <td>1</td>\n",
       "      <td>1</td>\n",
       "      <td>1</td>\n",
       "      <td>99</td>\n",
       "    </tr>\n",
       "    <tr>\n",
       "      <th>4</th>\n",
       "      <td>3DD.003C099531</td>\n",
       "      <td>1</td>\n",
       "      <td>0</td>\n",
       "      <td>0</td>\n",
       "      <td>0</td>\n",
       "      <td>0</td>\n",
       "      <td>0</td>\n",
       "      <td>0</td>\n",
       "      <td>1</td>\n",
       "      <td>1</td>\n",
       "      <td>1</td>\n",
       "      <td>1</td>\n",
       "      <td>87</td>\n",
       "    </tr>\n",
       "  </tbody>\n",
       "</table>\n",
       "</div>"
      ],
      "text/plain": [
       "         TAG_CODE  CAPTURE_CODE  MARCH_FLAG  APR_FLAG  MAY_FLAG  JUNE_FLAG  \\\n",
       "0  3DD.003C09978A             1           0         0         0          0   \n",
       "1  3DD.003C099940             1           0         0         0          0   \n",
       "2  3DD.003C099A9D             1           0         0         0          0   \n",
       "3  3DD.003C099525             1           0         0         0          0   \n",
       "4  3DD.003C099531             1           0         0         0          0   \n",
       "\n",
       "   JULY_FLAG  AUGUST_FLAG  SEP_FLAG  SOCKEYE_FLAG  HATCHERY_REARED  SS_FLAG  \\\n",
       "0          0            0         1             1                1        1   \n",
       "1          0            0         1             1                1        1   \n",
       "2          0            0         1             1                1        1   \n",
       "3          0            0         1             1                1        1   \n",
       "4          0            0         1             1                1        1   \n",
       "\n",
       "   LENGTH_MM  \n",
       "0        102  \n",
       "1         97  \n",
       "2        101  \n",
       "3         99  \n",
       "4         87  "
      ]
     },
     "execution_count": 25,
     "metadata": {},
     "output_type": "execute_result"
    }
   ],
   "source": [
    "fish = pd.read_csv('fish_predict.csv')\n",
    "fish.head()"
   ]
  },
  {
   "cell_type": "markdown",
   "metadata": {},
   "source": [
    "### Split fish records into Training vs. Test groups, then Y (predicted) vs X (predictors)\n",
    "\n",
    "We will develop a model on the \"training\" group, then validate it's performance against new data through a test group. In our example, 70% of data will be randomly selected in our training group; the remaining 30% is our test group.\n",
    "\n",
    "<center><img src=\"traintest.png\" style=\"width: 300px;\"/><center>"
   ]
  },
  {
   "cell_type": "code",
   "execution_count": 8,
   "metadata": {},
   "outputs": [],
   "source": [
    "samp = np.random.rand(len(fish)) < 0.7\n",
    "y_fish = fish['CAPTURE_CODE']\n",
    "x_fish = fish[['SOCKEYE_FLAG','HATCHERY_REARED','SS_FLAG','LENGTH_MM','MARCH_FLAG',\\\n",
    "               'APR_FLAG', 'MAY_FLAG','JUNE_FLAG', 'JULY_FLAG', 'AUGUST_FLAG', 'SEP_FLAG']]\n",
    "y_train, x_train = y_fish[samp], x_fish[samp]\n",
    "y_test, x_test = y_fish[~samp], x_fish[~samp]"
   ]
  },
  {
   "cell_type": "markdown",
   "metadata": {},
   "source": [
    "### Train Random Forest Classifier, Predict on Test Group\n",
    "\n",
    "A **random forest** is a **machine learning algorithm** that generates a large number of **decision trees**, then isolates *which* variables are best at predicting the target outcome.\n",
    "\n",
    "<center><img src=\"rf-eg.png\" style=\"height: 375px;\"/></center>"
   ]
  },
  {
   "cell_type": "markdown",
   "metadata": {},
   "source": [
    "1st, we fit the model to the **training** group, then we predict on the **test** group to see how we did!\n",
    "\n",
    "Why do we do this? Computers are smart, they can memorize every intricacy of the training group (this is called *overfitting*), but we want to know how the model will do with data it has never seen to see how *generalizable* it is."
   ]
  },
  {
   "cell_type": "code",
   "execution_count": 9,
   "metadata": {},
   "outputs": [],
   "source": [
    "rfc = RandomForestClassifier(100).fit(x_train,y_train)\n",
    "y_predict,y_predict_proba = rfc.predict(x_test),rfc.predict_proba(x_test)"
   ]
  },
  {
   "cell_type": "markdown",
   "metadata": {},
   "source": [
    "### How'd we do?"
   ]
  },
  {
   "cell_type": "code",
   "execution_count": 19,
   "metadata": {},
   "outputs": [
    {
     "name": "stdout",
     "output_type": "stream",
     "text": [
      "ROC AUC Score: 78.0%\n",
      "↳There is a 78.0% chance this model's prediction will correctly distinguish between captured and non-capture fish\n"
     ]
    }
   ],
   "source": [
    "print('ROC AUC Score: '+str(round(roc_auc_score(y_test,y_predict_proba[:,1]),2)*100)+'%')\n",
    "print('↳There is a '+str(round(roc_auc_score(y_test,y_predict_proba[:,1]),2)*100)+\"% chance this model's prediction will correctly distinguish between captured and non-capture fish\")"
   ]
  },
  {
   "cell_type": "markdown",
   "metadata": {},
   "source": [
    "### Which features were most important?"
   ]
  },
  {
   "cell_type": "code",
   "execution_count": 23,
   "metadata": {},
   "outputs": [
    {
     "data": {
      "text/plain": [
       "<matplotlib.axes._subplots.AxesSubplot at 0x5590160>"
      ]
     },
     "execution_count": 23,
     "metadata": {},
     "output_type": "execute_result"
    },
    {
     "data": {
      "image/png": "[encoded data removed]",
      "text/plain": [
       "<Figure size 432x288 with 1 Axes>"
      ]
     },
     "metadata": {
      "needs_background": "light"
     },
     "output_type": "display_data"
    }
   ],
   "source": [
    "feature_importances = pd.DataFrame(rfc.feature_importances_,index = x_train.columns,columns=['importance']).sort_values('importance',ascending=False)\n",
    "feature_importances.plot(kind='bar',title='Most Important Features in Predicting Fish Survival')"
   ]
  }
 ],
 "metadata": {
  "kernelspec": {
   "display_name": "Python 3",
   "language": "python",
   "name": "python3"
  },
  "language_info": {
   "codemirror_mode": {
    "name": "ipython",
    "version": 3
   },
   "file_extension": ".py",
   "mimetype": "text/x-python",
   "name": "python",
   "nbconvert_exporter": "python",
   "pygments_lexer": "ipython3",
   "version": "3.7.1"
  }
 },
 "nbformat": 4,
 "nbformat_minor": 2
}
