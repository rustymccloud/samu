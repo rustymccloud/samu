{
 "cells": [
  {
   "cell_type": "markdown",
   "metadata": {
    "slideshow": {
     "slide_type": "slide"
    }
   },
   "source": [
    "# <center>A simple random forest approach to predict fish survival</center> #\n",
    "<center><img src=\"jup.png\" style=\"height: 75px;\" /> + <img src=\"salmon.jpg\" style=\"height: 75px;\" /> + <img src=\"rf.png\" style=\"height: 75px;\" /></center>\n"
   ]
  },
  {
   "cell_type": "markdown",
   "metadata": {
    "slideshow": {
     "slide_type": "subslide"
    }
   },
   "source": [
    "<center>(with like 20 lines of code!)</center>"
   ]
  },
  {
   "cell_type": "markdown",
   "metadata": {
    "slideshow": {
     "slide_type": "slide"
    }
   },
   "source": [
    "### Import Necessary Python Packages (Pandas, NumPy, Scikit-learn)"
   ]
  },
  {
   "cell_type": "code",
   "execution_count": 1,
   "metadata": {
    "slideshow": {
     "slide_type": "subslide"
    }
   },
   "outputs": [],
   "source": [
    "from fish_import import *\n",
    "\n",
    "%matplotlib inline"
   ]
  },
  {
   "cell_type": "markdown",
   "metadata": {
    "slideshow": {
     "slide_type": "slide"
    }
   },
   "source": [
    "### Introducing the Juvenile Fish Collector"
   ]
  },
  {
   "cell_type": "code",
   "execution_count": 2,
   "metadata": {
    "slideshow": {
     "slide_type": "subslide"
    }
   },
   "outputs": [
    {
     "data": {
      "text/html": [
       "\n",
       "        <iframe\n",
       "            width=\"700\"\n",
       "            height=\"350\"\n",
       "            src=\"https://caltopo.com/m/SEN5\"\n",
       "            frameborder=\"0\"\n",
       "            allowfullscreen\n",
       "        ></iframe>\n",
       "        "
      ],
      "text/plain": [
       "<IPython.lib.display.IFrame at 0x8ea3828>"
      ]
     },
     "execution_count": 2,
     "metadata": {},
     "output_type": "execute_result"
    }
   ],
   "source": [
    "IFrame('https://caltopo.com/m/SEN5', width=700, height=350)"
   ]
  },
  {
   "cell_type": "markdown",
   "metadata": {
    "slideshow": {
     "slide_type": "slide"
    }
   },
   "source": [
    "### Import CSV that I exported from snowflake"
   ]
  },
  {
   "cell_type": "code",
   "execution_count": 20,
   "metadata": {
    "slideshow": {
     "slide_type": "subslide"
    }
   },
   "outputs": [
    {
     "data": {
      "text/html": [
       "<div>\n",
       "<style scoped>\n",
       "    .dataframe tbody tr th:only-of-type {\n",
       "        vertical-align: middle;\n",
       "    }\n",
       "\n",
       "    .dataframe tbody tr th {\n",
       "        vertical-align: top;\n",
       "    }\n",
       "\n",
       "    .dataframe thead th {\n",
       "        text-align: right;\n",
       "    }\n",
       "</style>\n",
       "<table border=\"1\" class=\"dataframe\">\n",
       "  <thead>\n",
       "    <tr style=\"text-align: right;\">\n",
       "      <th></th>\n",
       "      <th>TAG_CODE</th>\n",
       "      <th>CAPTURE_CODE</th>\n",
       "      <th>MARCH_FLAG</th>\n",
       "      <th>APR_FLAG</th>\n",
       "      <th>MAY_FLAG</th>\n",
       "      <th>JUNE_FLAG</th>\n",
       "      <th>JULY_FLAG</th>\n",
       "      <th>AUGUST_FLAG</th>\n",
       "      <th>SEP_FLAG</th>\n",
       "      <th>SOCKEYE_FLAG</th>\n",
       "      <th>HATCHERY_REARED</th>\n",
       "      <th>RELEASE_SITE_FLAG</th>\n",
       "      <th>LENGTH_MM</th>\n",
       "    </tr>\n",
       "  </thead>\n",
       "  <tbody>\n",
       "    <tr>\n",
       "      <th>0</th>\n",
       "      <td>384.3B23949C61</td>\n",
       "      <td>0</td>\n",
       "      <td>0</td>\n",
       "      <td>0</td>\n",
       "      <td>0</td>\n",
       "      <td>1</td>\n",
       "      <td>0</td>\n",
       "      <td>0</td>\n",
       "      <td>0</td>\n",
       "      <td>0</td>\n",
       "      <td>0</td>\n",
       "      <td>0</td>\n",
       "      <td>129</td>\n",
       "    </tr>\n",
       "    <tr>\n",
       "      <th>1</th>\n",
       "      <td>384.3B23954899</td>\n",
       "      <td>0</td>\n",
       "      <td>0</td>\n",
       "      <td>0</td>\n",
       "      <td>1</td>\n",
       "      <td>0</td>\n",
       "      <td>0</td>\n",
       "      <td>0</td>\n",
       "      <td>0</td>\n",
       "      <td>0</td>\n",
       "      <td>0</td>\n",
       "      <td>0</td>\n",
       "      <td>117</td>\n",
       "    </tr>\n",
       "    <tr>\n",
       "      <th>2</th>\n",
       "      <td>384.3B23957A31</td>\n",
       "      <td>0</td>\n",
       "      <td>0</td>\n",
       "      <td>0</td>\n",
       "      <td>0</td>\n",
       "      <td>1</td>\n",
       "      <td>0</td>\n",
       "      <td>0</td>\n",
       "      <td>0</td>\n",
       "      <td>0</td>\n",
       "      <td>0</td>\n",
       "      <td>0</td>\n",
       "      <td>124</td>\n",
       "    </tr>\n",
       "    <tr>\n",
       "      <th>3</th>\n",
       "      <td>384.3B2395B170</td>\n",
       "      <td>1</td>\n",
       "      <td>0</td>\n",
       "      <td>0</td>\n",
       "      <td>0</td>\n",
       "      <td>1</td>\n",
       "      <td>0</td>\n",
       "      <td>0</td>\n",
       "      <td>0</td>\n",
       "      <td>0</td>\n",
       "      <td>0</td>\n",
       "      <td>0</td>\n",
       "      <td>131</td>\n",
       "    </tr>\n",
       "    <tr>\n",
       "      <th>4</th>\n",
       "      <td>384.3B2395B963</td>\n",
       "      <td>0</td>\n",
       "      <td>0</td>\n",
       "      <td>0</td>\n",
       "      <td>0</td>\n",
       "      <td>1</td>\n",
       "      <td>0</td>\n",
       "      <td>0</td>\n",
       "      <td>0</td>\n",
       "      <td>0</td>\n",
       "      <td>0</td>\n",
       "      <td>0</td>\n",
       "      <td>115</td>\n",
       "    </tr>\n",
       "    <tr>\n",
       "      <th>5</th>\n",
       "      <td>384.3B2395C0EA</td>\n",
       "      <td>1</td>\n",
       "      <td>0</td>\n",
       "      <td>0</td>\n",
       "      <td>0</td>\n",
       "      <td>1</td>\n",
       "      <td>0</td>\n",
       "      <td>0</td>\n",
       "      <td>0</td>\n",
       "      <td>0</td>\n",
       "      <td>0</td>\n",
       "      <td>0</td>\n",
       "      <td>119</td>\n",
       "    </tr>\n",
       "    <tr>\n",
       "      <th>6</th>\n",
       "      <td>384.3B2395C151</td>\n",
       "      <td>0</td>\n",
       "      <td>0</td>\n",
       "      <td>0</td>\n",
       "      <td>1</td>\n",
       "      <td>0</td>\n",
       "      <td>0</td>\n",
       "      <td>0</td>\n",
       "      <td>0</td>\n",
       "      <td>0</td>\n",
       "      <td>0</td>\n",
       "      <td>0</td>\n",
       "      <td>127</td>\n",
       "    </tr>\n",
       "  </tbody>\n",
       "</table>\n",
       "</div>"
      ],
      "text/plain": [
       "         TAG_CODE  CAPTURE_CODE  MARCH_FLAG  APR_FLAG  MAY_FLAG  JUNE_FLAG  \\\n",
       "0  384.3B23949C61             0           0         0         0          1   \n",
       "1  384.3B23954899             0           0         0         1          0   \n",
       "2  384.3B23957A31             0           0         0         0          1   \n",
       "3  384.3B2395B170             1           0         0         0          1   \n",
       "4  384.3B2395B963             0           0         0         0          1   \n",
       "5  384.3B2395C0EA             1           0         0         0          1   \n",
       "6  384.3B2395C151             0           0         0         1          0   \n",
       "\n",
       "   JULY_FLAG  AUGUST_FLAG  SEP_FLAG  SOCKEYE_FLAG  HATCHERY_REARED  \\\n",
       "0          0            0         0             0                0   \n",
       "1          0            0         0             0                0   \n",
       "2          0            0         0             0                0   \n",
       "3          0            0         0             0                0   \n",
       "4          0            0         0             0                0   \n",
       "5          0            0         0             0                0   \n",
       "6          0            0         0             0                0   \n",
       "\n",
       "   RELEASE_SITE_FLAG  LENGTH_MM  \n",
       "0                  0        129  \n",
       "1                  0        117  \n",
       "2                  0        124  \n",
       "3                  0        131  \n",
       "4                  0        115  \n",
       "5                  0        119  \n",
       "6                  0        127  "
      ]
     },
     "execution_count": 20,
     "metadata": {},
     "output_type": "execute_result"
    }
   ],
   "source": [
    "fish = pd.read_csv('fish_capture.csv')\n",
    "fish.head(7)"
   ]
  },
  {
   "cell_type": "code",
   "execution_count": 22,
   "metadata": {
    "slideshow": {
     "slide_type": "slide"
    }
   },
   "outputs": [
    {
     "data": {
      "text/plain": [
       "Text(0.5, 1.0, 'Fish Counts | Not Captured vs Captured')"
      ]
     },
     "execution_count": 22,
     "metadata": {},
     "output_type": "execute_result"
    },
    {
     "data": {
      "image/png": "[encoded data removed]",
      "text/plain": [
       "<Figure size 432x288 with 1 Axes>"
      ]
     },
     "metadata": {
      "needs_background": "light"
     },
     "output_type": "display_data"
    }
   ],
   "source": [
    "fish['CAPTURE_CODE'].hist()\n",
    "plt.title('Fish Counts | Not Captured vs Captured',fontsize='xx-large')"
   ]
  },
  {
   "cell_type": "markdown",
   "metadata": {
    "slideshow": {
     "slide_type": "slide"
    }
   },
   "source": [
    "## <center> Split fish records into Training vs. Test groups\n",
    "<br>\n",
    "<center> \n",
    "    <center><img src=\"traintest.png\" style=\"width: 300px;\"/><br> <br> <br>\n",
    "   \n",
    "\n",
    "<center><b>1st</b> Develop a model on the <u>\"training\"</u> group  \n",
    "    <br>►►<br>  <b>2nd</b> Validate it's performance against new data through a <u>\"test\"</u> group.  </center>"
   ]
  },
  {
   "cell_type": "markdown",
   "metadata": {
    "slideshow": {
     "slide_type": "subslide"
    }
   },
   "source": [
    "### <center> Why do we do this? \n",
    "\n",
    "We want to expose the model to enough complexity so it performs well on new data, but need to hide some data from the model that it has never seen.\n",
    "\n",
    "Our goal is a model that **generalizes** well to new data so it has value for us in the future."
   ]
  },
  {
   "cell_type": "code",
   "execution_count": 23,
   "metadata": {
    "collapsed": true,
    "jupyter": {
     "outputs_hidden": true
    },
    "slideshow": {
     "slide_type": "subslide"
    }
   },
   "outputs": [],
   "source": [
    "#randomly assign fish to training vs test\n",
    "samp = np.random.rand(len(fish)) < 0.7\n",
    "\n",
    "#separate predictors(x) vs capture flag (y)\n",
    "x_fish = fish.iloc[:,2:]\n",
    "\n",
    "#apply random assignment\n",
    "y_train, x_train = fish['CAPTURE_CODE'][samp], x_fish[samp]\n",
    "y_test, x_test = fish['CAPTURE_CODE'][~samp], x_fish[~samp]"
   ]
  },
  {
   "cell_type": "markdown",
   "metadata": {
    "slideshow": {
     "slide_type": "slide"
    }
   },
   "source": [
    "## <center> A Random Forest is a collection of \"Decision Trees\"\n",
    "\n",
    "A **random forest** is a **machine learning algorithm** that generates a large number of different **decision trees**, then selects the best decision tree at predicting the target outcome. \n",
    "\n",
    "[click to learn more about Random Forests](https://www.youtube.com/watch?v=LKgXdHxi1tQ)"
   ]
  },
  {
   "cell_type": "markdown",
   "metadata": {
    "slideshow": {
     "slide_type": "subslide"
    }
   },
   "source": [
    "### <center> Sample Decision Tree for Fish Capture\n",
    "<center><img src=\"rf-eg.png\" style=\"height: 350px;\"/></center>"
   ]
  },
  {
   "cell_type": "markdown",
   "metadata": {
    "slideshow": {
     "slide_type": "slide"
    }
   },
   "source": [
    "### <center> Now, let's run that random forest! \n",
    "\n",
    "<center> (100 decision trees to start, because why not?)"
   ]
  },
  {
   "cell_type": "code",
   "execution_count": 24,
   "metadata": {
    "collapsed": true,
    "jupyter": {
     "outputs_hidden": true
    },
    "slideshow": {
     "slide_type": "subslide"
    }
   },
   "outputs": [],
   "source": [
    "rfc = RandomForestClassifier(100).fit(x_train,y_train)\n",
    "y_predict_proba = rfc.predict_proba(x_test)"
   ]
  },
  {
   "cell_type": "code",
   "execution_count": 32,
   "metadata": {
    "slideshow": {
     "slide_type": "subslide"
    }
   },
   "outputs": [
    {
     "name": "stdout",
     "output_type": "stream",
     "text": [
      "Actual Capture vs Predicted Capture Probability\n"
     ]
    },
    {
     "data": {
      "text/html": [
       "<div>\n",
       "<style scoped>\n",
       "    .dataframe tbody tr th:only-of-type {\n",
       "        vertical-align: middle;\n",
       "    }\n",
       "\n",
       "    .dataframe tbody tr th {\n",
       "        vertical-align: top;\n",
       "    }\n",
       "\n",
       "    .dataframe thead th {\n",
       "        text-align: right;\n",
       "    }\n",
       "</style>\n",
       "<table border=\"1\" class=\"dataframe\">\n",
       "  <thead>\n",
       "    <tr style=\"text-align: right;\">\n",
       "      <th></th>\n",
       "      <th>1</th>\n",
       "      <th>2</th>\n",
       "    </tr>\n",
       "  </thead>\n",
       "  <tbody>\n",
       "    <tr>\n",
       "      <th>0</th>\n",
       "      <td>0</td>\n",
       "      <td>0.460423</td>\n",
       "    </tr>\n",
       "    <tr>\n",
       "      <th>1</th>\n",
       "      <td>0</td>\n",
       "      <td>0.452921</td>\n",
       "    </tr>\n",
       "    <tr>\n",
       "      <th>2</th>\n",
       "      <td>0</td>\n",
       "      <td>0.286176</td>\n",
       "    </tr>\n",
       "    <tr>\n",
       "      <th>3</th>\n",
       "      <td>0</td>\n",
       "      <td>0.000000</td>\n",
       "    </tr>\n",
       "    <tr>\n",
       "      <th>4</th>\n",
       "      <td>1</td>\n",
       "      <td>0.452921</td>\n",
       "    </tr>\n",
       "    <tr>\n",
       "      <th>5</th>\n",
       "      <td>0</td>\n",
       "      <td>0.244169</td>\n",
       "    </tr>\n",
       "    <tr>\n",
       "      <th>6</th>\n",
       "      <td>1</td>\n",
       "      <td>0.452025</td>\n",
       "    </tr>\n",
       "    <tr>\n",
       "      <th>7</th>\n",
       "      <td>0</td>\n",
       "      <td>0.691952</td>\n",
       "    </tr>\n",
       "    <tr>\n",
       "      <th>8</th>\n",
       "      <td>1</td>\n",
       "      <td>0.291919</td>\n",
       "    </tr>\n",
       "    <tr>\n",
       "      <th>9</th>\n",
       "      <td>0</td>\n",
       "      <td>0.541290</td>\n",
       "    </tr>\n",
       "  </tbody>\n",
       "</table>\n",
       "</div>"
      ],
      "text/plain": [
       "   1         2\n",
       "0  0  0.460423\n",
       "1  0  0.452921\n",
       "2  0  0.286176\n",
       "3  0  0.000000\n",
       "4  1  0.452921\n",
       "5  0  0.244169\n",
       "6  1  0.452025\n",
       "7  0  0.691952\n",
       "8  1  0.291919\n",
       "9  0  0.541290"
      ]
     },
     "execution_count": 32,
     "metadata": {},
     "output_type": "execute_result"
    }
   ],
   "source": [
    "# The result\n",
    "print('Actual Capture vs Predicted Capture Probability')\n",
    "pd.concat([y_test.reset_index(),pd.Series(y_predict_proba[:,1])],ignore_index=True,axis=1).iloc[:,1:].head(10)"
   ]
  },
  {
   "cell_type": "markdown",
   "metadata": {
    "slideshow": {
     "slide_type": "slide"
    }
   },
   "source": [
    "## How'd we do? \n",
    "\n",
    "### Introducing the ROC AUC score\n",
    "\n",
    "ROC AUC (\"rock ock\") is a score which balances the false positives vs. true positives and is more telling than just \"accuracy\""
   ]
  },
  {
   "cell_type": "code",
   "execution_count": 26,
   "metadata": {
    "slideshow": {
     "slide_type": "subslide"
    }
   },
   "outputs": [
    {
     "name": "stdout",
     "output_type": "stream",
     "text": [
      "ROC AUC Score: >>>>> 77.0% <<<<< | There is a 77.0% chance this model's prediction will correctly distinguish between captured and non-capture fish\n"
     ]
    }
   ],
   "source": [
    "print('ROC AUC Score: >>>>> '+str(round(roc_auc_score(y_test,y_predict_proba[:,1]),2)*100)+'% <<<<< | '+'There is a '+str(round(roc_auc_score(y_test,y_predict_proba[:,1]),2)*100)+\"% chance this model's prediction will correctly distinguish between captured and non-capture fish\")"
   ]
  },
  {
   "cell_type": "markdown",
   "metadata": {
    "slideshow": {
     "slide_type": "slide"
    }
   },
   "source": [
    "### Which features were most important?"
   ]
  },
  {
   "cell_type": "code",
   "execution_count": 27,
   "metadata": {
    "slideshow": {
     "slide_type": "subslide"
    }
   },
   "outputs": [
    {
     "data": {
      "text/plain": [
       "<matplotlib.axes._subplots.AxesSubplot at 0xb9222e8>"
      ]
     },
     "execution_count": 27,
     "metadata": {},
     "output_type": "execute_result"
    },
    {
     "data": {
      "image/png": "[encoded data removed]",
      "text/plain": [
       "<Figure size 432x288 with 1 Axes>"
      ]
     },
     "metadata": {
      "needs_background": "light"
     },
     "output_type": "display_data"
    }
   ],
   "source": [
    "feature_importances = pd.DataFrame(rfc.feature_importances_,index = x_train.columns,columns=['importance']).sort_values('importance',ascending=False)\n",
    "feature_importances.plot(kind='bar',title='Most Important Features in Predicting Fish Survival')"
   ]
  },
  {
   "cell_type": "markdown",
   "metadata": {
    "jupyter": {
     "outputs_hidden": true
    },
    "slideshow": {
     "slide_type": "slide"
    }
   },
   "source": [
    "Now, check out the raw code"
   ]
  },
  {
   "cell_type": "code",
   "execution_count": null,
   "metadata": {
    "slideshow": {
     "slide_type": "subslide"
    }
   },
   "outputs": [],
   "source": [
    "from fish_import import *\n",
    "get_ipython().run_line_magic('matplotlib', 'inline')\n",
    "IFrame('https://caltopo.com/m/SEN5', width=700, height=350)\n",
    "fish = pd.read_csv('fish_capture.csv')\n",
    "fish.head(7)\n",
    "fish['CAPTURE_CODE'].hist()\n",
    "samp = np.random.rand(len(fish)) < 0.7\n",
    "x_fish = fish.iloc[:,2:]\n",
    "y_train, x_train = fish['CAPTURE_CODE'][samp], x_fish[samp]\n",
    "y_test, x_test = fish['CAPTURE_CODE'][~samp], x_fish[~samp]\n",
    "rfc = RandomForestClassifier(100).fit(x_train,y_train)\n",
    "y_predict,y_predict_proba = rfc.predict(x_test),rfc.predict_proba(x_test)\n",
    "pd.concat([y_test.reset_index(),pd.Series(y_predict_proba[:,1])],ignore_index=True,axis=1).iloc[:,1:].head(10)\n",
    "print('Actual Capture vs Predicted Capture Probability')\n",
    "print('ROC AUC Score: >>>>> '+str(round(roc_auc_score(y_test,y_predict_proba[:,1]),2)*100)+'% <<<<< | '+'There is a '+str(round(roc_auc_score(y_test,y_predict_proba[:,1]),2)*100)+\"% chance this model's prediction will correctly distinguish between captured and non-capture fish\")\n",
    "feature_importances = pd.DataFrame(rfc.feature_importances_,index = x_train.columns,columns=['importance']).sort_values('importance',ascending=False)\n",
    "feature_importances.plot(kind='bar',title='Most Important Features in Predicting Fish Survival')\n",
    "fish[fish['RELEASE_SITE_FLAG']==1]['CAPTURE_CODE'].hist()\n",
    "fish[fish['RELEASE_SITE_FLAG']!=1]['CAPTURE_CODE'].hist(alpha=0.5)"
   ]
  },
  {
   "cell_type": "markdown",
   "metadata": {
    "slideshow": {
     "slide_type": "subslide"
    }
   },
   "source": [
    "# <center> Lame!"
   ]
  },
  {
   "cell_type": "markdown",
   "metadata": {
    "slideshow": {
     "slide_type": "subslide"
    }
   },
   "source": [
    "# <center> ...Jupyter Rulez!"
   ]
  }
 ],
 "metadata": {
  "celltoolbar": "Slideshow",
  "kernelspec": {
   "display_name": "Python 3",
   "language": "python",
   "name": "python3"
  },
  "language_info": {
   "codemirror_mode": {
    "name": "ipython",
    "version": 3
   },
   "file_extension": ".py",
   "mimetype": "text/x-python",
   "name": "python",
   "nbconvert_exporter": "python",
   "pygments_lexer": "ipython3",
   "version": "3.7.1"
  }
 },
 "nbformat": 4,
 "nbformat_minor": 4
}
