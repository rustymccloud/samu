{
 "cells": [
  {
   "cell_type": "code",
   "execution_count": 39,
   "metadata": {},
   "outputs": [],
   "source": [
    "from lifelines.datasets import load_waltons\n",
    "surv = load_waltons()\n",
    "import matplotlib as plt\n",
    "from lifelines.plotting import plot_lifetimes\n",
    "from numpy.random import uniform, exponential\n",
    "import numpy as np "
   ]
  },
  {
   "cell_type": "markdown",
   "metadata": {},
   "source": [
    "#### Understand the data"
   ]
  },
  {
   "cell_type": "code",
   "execution_count": 16,
   "metadata": {},
   "outputs": [
    {
     "name": "stdout",
     "output_type": "stream",
     "text": [
      "['miR-137' 'control']\n",
      "[ 6. 13. 19. 26. 33. 47. 62.  9. 15. 22. 29. 36. 43. 54. 61. 69. 32. 53.\n",
      " 60. 68. 75. 17. 51. 58. 66.  7. 41. 48. 56. 63. 38. 45.]\n",
      "[1 0]\n"
     ]
    },
    {
     "data": {
      "text/html": [
       "<div>\n",
       "<style scoped>\n",
       "    .dataframe tbody tr th:only-of-type {\n",
       "        vertical-align: middle;\n",
       "    }\n",
       "\n",
       "    .dataframe tbody tr th {\n",
       "        vertical-align: top;\n",
       "    }\n",
       "\n",
       "    .dataframe thead th {\n",
       "        text-align: right;\n",
       "    }\n",
       "</style>\n",
       "<table border=\"1\" class=\"dataframe\">\n",
       "  <thead>\n",
       "    <tr style=\"text-align: right;\">\n",
       "      <th></th>\n",
       "      <th>T</th>\n",
       "      <th>E</th>\n",
       "      <th>group</th>\n",
       "    </tr>\n",
       "  </thead>\n",
       "  <tbody>\n",
       "    <tr>\n",
       "      <th>0</th>\n",
       "      <td>6.0</td>\n",
       "      <td>1</td>\n",
       "      <td>miR-137</td>\n",
       "    </tr>\n",
       "    <tr>\n",
       "      <th>1</th>\n",
       "      <td>13.0</td>\n",
       "      <td>1</td>\n",
       "      <td>miR-137</td>\n",
       "    </tr>\n",
       "    <tr>\n",
       "      <th>2</th>\n",
       "      <td>13.0</td>\n",
       "      <td>1</td>\n",
       "      <td>miR-137</td>\n",
       "    </tr>\n",
       "    <tr>\n",
       "      <th>3</th>\n",
       "      <td>13.0</td>\n",
       "      <td>1</td>\n",
       "      <td>miR-137</td>\n",
       "    </tr>\n",
       "    <tr>\n",
       "      <th>4</th>\n",
       "      <td>19.0</td>\n",
       "      <td>1</td>\n",
       "      <td>miR-137</td>\n",
       "    </tr>\n",
       "  </tbody>\n",
       "</table>\n",
       "</div>"
      ],
      "text/plain": [
       "      T  E    group\n",
       "0   6.0  1  miR-137\n",
       "1  13.0  1  miR-137\n",
       "2  13.0  1  miR-137\n",
       "3  13.0  1  miR-137\n",
       "4  19.0  1  miR-137"
      ]
     },
     "execution_count": 16,
     "metadata": {},
     "output_type": "execute_result"
    }
   ],
   "source": [
    "print(surv['group'].unique())\n",
    "print(surv['T'].unique())\n",
    "print(surv['E'].unique())\n",
    "surv.head()"
   ]
  },
  {
   "cell_type": "code",
   "execution_count": 8,
   "metadata": {},
   "outputs": [],
   "source": [
    "T =  surv['T']\n",
    "E = surv['E']"
   ]
  },
  {
   "cell_type": "code",
   "execution_count": 9,
   "metadata": {},
   "outputs": [
    {
     "data": {
      "text/plain": [
       "<lifelines.KaplanMeierFitter: fitted with 163 observations, 7 censored>"
      ]
     },
     "execution_count": 9,
     "metadata": {},
     "output_type": "execute_result"
    }
   ],
   "source": [
    "from lifelines import KaplanMeierFitter\n",
    "kmf = KaplanMeierFitter()\n",
    "kmf.fit(T, event_observed=E)"
   ]
  },
  {
   "cell_type": "code",
   "execution_count": 11,
   "metadata": {},
   "outputs": [],
   "source": [
    "%matplotlib inline"
   ]
  },
  {
   "cell_type": "markdown",
   "metadata": {},
   "source": [
    "#### Plot Survival Curve"
   ]
  },
  {
   "cell_type": "code",
   "execution_count": 12,
   "metadata": {},
   "outputs": [
    {
     "data": {
      "text/plain": [
       "<matplotlib.axes._subplots.AxesSubplot at 0x1ef3a78bf98>"
      ]
     },
     "execution_count": 12,
     "metadata": {},
     "output_type": "execute_result"
    },
    {
     "data": {
      "image/png": "[encoded data removed]",
      "text/plain": [
       "<Figure size 432x288 with 1 Axes>"
      ]
     },
     "metadata": {},
     "output_type": "display_data"
    }
   ],
   "source": [
    "kmf.survival_function_\n",
    "kmf.median_\n",
    "kmf.plot()"
   ]
  },
  {
   "cell_type": "code",
   "execution_count": 13,
   "metadata": {},
   "outputs": [
    {
     "data": {
      "text/plain": [
       "<matplotlib.axes._subplots.AxesSubplot at 0x1ef3a98f0f0>"
      ]
     },
     "execution_count": 13,
     "metadata": {},
     "output_type": "execute_result"
    },
    {
     "data": {
      "image/png": "[encoded data removed]",
      "text/plain": [
       "<Figure size 432x288 with 1 Axes>"
      ]
     },
     "metadata": {},
     "output_type": "display_data"
    }
   ],
   "source": [
    "groups = surv['group']\n",
    "ix =  (groups =='miR-137')\n",
    "\n",
    "kmf.fit(T[~ix], E[~ix], label = 'control')\n",
    "ax = kmf.plot()\n",
    "kmf.fit(T[ix],E[ix],label = 'miR=137')\n",
    "kmf.plot(ax=ax)"
   ]
  },
  {
   "cell_type": "markdown",
   "metadata": {},
   "source": [
    "### Aalen Fitter"
   ]
  },
  {
   "cell_type": "code",
   "execution_count": 17,
   "metadata": {},
   "outputs": [
    {
     "data": {
      "text/plain": [
       "<lifelines.NelsonAalenFitter: fitted with 163 observations, 7 censored>"
      ]
     },
     "execution_count": 17,
     "metadata": {},
     "output_type": "execute_result"
    }
   ],
   "source": [
    "from lifelines import NelsonAalenFitter\n",
    "naf = NelsonAalenFitter()\n",
    "naf.fit(T, event_observed=E)"
   ]
  },
  {
   "cell_type": "markdown",
   "metadata": {},
   "source": [
    "#### Now, using Rossi dataset"
   ]
  },
  {
   "cell_type": "code",
   "execution_count": 18,
   "metadata": {},
   "outputs": [
    {
     "data": {
      "text/html": [
       "<div>\n",
       "<style scoped>\n",
       "    .dataframe tbody tr th:only-of-type {\n",
       "        vertical-align: middle;\n",
       "    }\n",
       "\n",
       "    .dataframe tbody tr th {\n",
       "        vertical-align: top;\n",
       "    }\n",
       "\n",
       "    .dataframe thead th {\n",
       "        text-align: right;\n",
       "    }\n",
       "</style>\n",
       "<table border=\"1\" class=\"dataframe\">\n",
       "  <thead>\n",
       "    <tr style=\"text-align: right;\">\n",
       "      <th></th>\n",
       "      <th>week</th>\n",
       "      <th>arrest</th>\n",
       "      <th>fin</th>\n",
       "      <th>age</th>\n",
       "      <th>race</th>\n",
       "      <th>wexp</th>\n",
       "      <th>mar</th>\n",
       "      <th>paro</th>\n",
       "      <th>prio</th>\n",
       "    </tr>\n",
       "  </thead>\n",
       "  <tbody>\n",
       "    <tr>\n",
       "      <th>0</th>\n",
       "      <td>20</td>\n",
       "      <td>1</td>\n",
       "      <td>0</td>\n",
       "      <td>27</td>\n",
       "      <td>1</td>\n",
       "      <td>0</td>\n",
       "      <td>0</td>\n",
       "      <td>1</td>\n",
       "      <td>3</td>\n",
       "    </tr>\n",
       "    <tr>\n",
       "      <th>1</th>\n",
       "      <td>17</td>\n",
       "      <td>1</td>\n",
       "      <td>0</td>\n",
       "      <td>18</td>\n",
       "      <td>1</td>\n",
       "      <td>0</td>\n",
       "      <td>0</td>\n",
       "      <td>1</td>\n",
       "      <td>8</td>\n",
       "    </tr>\n",
       "    <tr>\n",
       "      <th>2</th>\n",
       "      <td>25</td>\n",
       "      <td>1</td>\n",
       "      <td>0</td>\n",
       "      <td>19</td>\n",
       "      <td>0</td>\n",
       "      <td>1</td>\n",
       "      <td>0</td>\n",
       "      <td>1</td>\n",
       "      <td>13</td>\n",
       "    </tr>\n",
       "    <tr>\n",
       "      <th>3</th>\n",
       "      <td>52</td>\n",
       "      <td>0</td>\n",
       "      <td>1</td>\n",
       "      <td>23</td>\n",
       "      <td>1</td>\n",
       "      <td>1</td>\n",
       "      <td>1</td>\n",
       "      <td>1</td>\n",
       "      <td>1</td>\n",
       "    </tr>\n",
       "    <tr>\n",
       "      <th>4</th>\n",
       "      <td>52</td>\n",
       "      <td>0</td>\n",
       "      <td>0</td>\n",
       "      <td>19</td>\n",
       "      <td>0</td>\n",
       "      <td>1</td>\n",
       "      <td>0</td>\n",
       "      <td>1</td>\n",
       "      <td>3</td>\n",
       "    </tr>\n",
       "  </tbody>\n",
       "</table>\n",
       "</div>"
      ],
      "text/plain": [
       "   week  arrest  fin  age  race  wexp  mar  paro  prio\n",
       "0    20       1    0   27     1     0    0     1     3\n",
       "1    17       1    0   18     1     0    0     1     8\n",
       "2    25       1    0   19     0     1    0     1    13\n",
       "3    52       0    1   23     1     1    1     1     1\n",
       "4    52       0    0   19     0     1    0     1     3"
      ]
     },
     "execution_count": 18,
     "metadata": {},
     "output_type": "execute_result"
    }
   ],
   "source": [
    "from lifelines.datasets import load_rossi\n",
    "new_surv=load_rossi()\n",
    "new_surv.head()"
   ]
  },
  {
   "cell_type": "markdown",
   "metadata": {},
   "source": [
    "### Cox Proportional-Hazard"
   ]
  },
  {
   "cell_type": "code",
   "execution_count": 19,
   "metadata": {},
   "outputs": [
    {
     "name": "stdout",
     "output_type": "stream",
     "text": [
      "Iteration 1: norm_delta = 0.48337, step_size = 0.95000, ll = -675.38063, seconds_since_start = 0.0\n",
      "Iteration 2: norm_delta = 0.13160, step_size = 0.95000, ll = -659.79004, seconds_since_start = 0.0\n",
      "Iteration 3: norm_delta = 0.01712, step_size = 0.95000, ll = -658.76197, seconds_since_start = 0.0\n",
      "Iteration 4: norm_delta = 0.00103, step_size = 0.95000, ll = -658.74771, seconds_since_start = 0.1\n",
      "Iteration 5: norm_delta = 0.00005, step_size = 0.95000, ll = -658.74766, seconds_since_start = 0.1\n",
      "Iteration 6: norm_delta = 0.00000, step_size = 0.95000, ll = -658.74766, seconds_since_start = 0.1\n",
      "Convergence completed after 6 iterations.\n",
      "n=432, number of events=114\n",
      "\n",
      "        coef  exp(coef)  se(coef)       z      p  lower 0.95  upper 0.95    \n",
      "fin  -0.3794     0.6843    0.1914 -1.9826 0.0474     -0.7545     -0.0043   *\n",
      "age  -0.0574     0.9442    0.0220 -2.6109 0.0090     -0.1006     -0.0143  **\n",
      "race  0.3139     1.3688    0.3080  1.0192 0.3081     -0.2898      0.9176    \n",
      "wexp -0.1498     0.8609    0.2122 -0.7058 0.4803     -0.5657      0.2662    \n",
      "mar  -0.4337     0.6481    0.3819 -1.1357 0.2561     -1.1822      0.3147    \n",
      "paro -0.0849     0.9186    0.1958 -0.4336 0.6646     -0.4685      0.2988    \n",
      "prio  0.0915     1.0958    0.0286  3.1938 0.0014      0.0353      0.1476  **\n",
      "---\n",
      "Signif. codes:  0 '***' 0.001 '**' 0.01 '*' 0.05 '.' 0.1 ' ' 1 \n",
      "\n",
      "Concordance = 0.640\n",
      "Likelihood ratio test = 33.266 on 7 df, p=0.00002\n"
     ]
    }
   ],
   "source": [
    "from lifelines import CoxPHFitter\n",
    "\n",
    "rossi_dataset = load_rossi()\n",
    "cph = CoxPHFitter()\n",
    "cph.fit(rossi_dataset, duration_col='week', event_col='arrest', show_progress=True)\n",
    "\n",
    "cph.print_summary()"
   ]
  },
  {
   "cell_type": "code",
   "execution_count": 23,
   "metadata": {},
   "outputs": [
    {
     "name": "stdout",
     "output_type": "stream",
     "text": [
      "0.6403292470997135\n",
      "           fin       age    race      wexp       mar      paro      prio\n",
      "coef -0.379422 -0.057438  0.3139 -0.149796 -0.433704 -0.084871  0.091497\n",
      "          baseline hazard\n",
      "event_at                 \n",
      "0.0              0.000000\n",
      "1.0              0.001958\n",
      "2.0              0.001964\n",
      "3.0              0.001965\n",
      "4.0              0.001969\n"
     ]
    }
   ],
   "source": [
    "print(cph.score_)\n",
    "print(cph.hazards_)\n",
    "print(cph.baseline_hazard_.head())"
   ]
  },
  {
   "cell_type": "markdown",
   "metadata": {},
   "source": [
    "#### Now, predict"
   ]
  },
  {
   "cell_type": "code",
   "execution_count": 25,
   "metadata": {},
   "outputs": [
    {
     "data": {
      "text/html": [
       "<div>\n",
       "<style scoped>\n",
       "    .dataframe tbody tr th:only-of-type {\n",
       "        vertical-align: middle;\n",
       "    }\n",
       "\n",
       "    .dataframe tbody tr th {\n",
       "        vertical-align: top;\n",
       "    }\n",
       "\n",
       "    .dataframe thead th {\n",
       "        text-align: right;\n",
       "    }\n",
       "</style>\n",
       "<table border=\"1\" class=\"dataframe\">\n",
       "  <thead>\n",
       "    <tr style=\"text-align: right;\">\n",
       "      <th></th>\n",
       "      <th>0</th>\n",
       "      <th>1</th>\n",
       "      <th>2</th>\n",
       "      <th>3</th>\n",
       "      <th>4</th>\n",
       "      <th>5</th>\n",
       "      <th>6</th>\n",
       "      <th>7</th>\n",
       "      <th>8</th>\n",
       "      <th>9</th>\n",
       "      <th>...</th>\n",
       "      <th>422</th>\n",
       "      <th>423</th>\n",
       "      <th>424</th>\n",
       "      <th>425</th>\n",
       "      <th>426</th>\n",
       "      <th>427</th>\n",
       "      <th>428</th>\n",
       "      <th>429</th>\n",
       "      <th>430</th>\n",
       "      <th>431</th>\n",
       "    </tr>\n",
       "    <tr>\n",
       "      <th>event_at</th>\n",
       "      <th></th>\n",
       "      <th></th>\n",
       "      <th></th>\n",
       "      <th></th>\n",
       "      <th></th>\n",
       "      <th></th>\n",
       "      <th></th>\n",
       "      <th></th>\n",
       "      <th></th>\n",
       "      <th></th>\n",
       "      <th></th>\n",
       "      <th></th>\n",
       "      <th></th>\n",
       "      <th></th>\n",
       "      <th></th>\n",
       "      <th></th>\n",
       "      <th></th>\n",
       "      <th></th>\n",
       "      <th></th>\n",
       "      <th></th>\n",
       "      <th></th>\n",
       "    </tr>\n",
       "  </thead>\n",
       "  <tbody>\n",
       "    <tr>\n",
       "      <th>0.0</th>\n",
       "      <td>1.000000</td>\n",
       "      <td>1.000000</td>\n",
       "      <td>1.000000</td>\n",
       "      <td>1.000000</td>\n",
       "      <td>1.000000</td>\n",
       "      <td>1.000000</td>\n",
       "      <td>1.000000</td>\n",
       "      <td>1.000000</td>\n",
       "      <td>1.000000</td>\n",
       "      <td>1.000000</td>\n",
       "      <td>...</td>\n",
       "      <td>1.000000</td>\n",
       "      <td>1.000000</td>\n",
       "      <td>1.000000</td>\n",
       "      <td>1.000000</td>\n",
       "      <td>1.000000</td>\n",
       "      <td>1.000000</td>\n",
       "      <td>1.000000</td>\n",
       "      <td>1.000000</td>\n",
       "      <td>1.000000</td>\n",
       "      <td>1.000000</td>\n",
       "    </tr>\n",
       "    <tr>\n",
       "      <th>1.0</th>\n",
       "      <td>0.997616</td>\n",
       "      <td>0.993695</td>\n",
       "      <td>0.994083</td>\n",
       "      <td>0.999045</td>\n",
       "      <td>0.997626</td>\n",
       "      <td>0.997578</td>\n",
       "      <td>0.998865</td>\n",
       "      <td>0.997827</td>\n",
       "      <td>0.995453</td>\n",
       "      <td>0.997462</td>\n",
       "      <td>...</td>\n",
       "      <td>0.997826</td>\n",
       "      <td>0.996005</td>\n",
       "      <td>0.996031</td>\n",
       "      <td>0.997774</td>\n",
       "      <td>0.998892</td>\n",
       "      <td>0.999184</td>\n",
       "      <td>0.997033</td>\n",
       "      <td>0.998866</td>\n",
       "      <td>0.998170</td>\n",
       "      <td>0.998610</td>\n",
       "    </tr>\n",
       "    <tr>\n",
       "      <th>2.0</th>\n",
       "      <td>0.995230</td>\n",
       "      <td>0.987411</td>\n",
       "      <td>0.988183</td>\n",
       "      <td>0.998089</td>\n",
       "      <td>0.995250</td>\n",
       "      <td>0.995154</td>\n",
       "      <td>0.997728</td>\n",
       "      <td>0.995653</td>\n",
       "      <td>0.990914</td>\n",
       "      <td>0.994922</td>\n",
       "      <td>...</td>\n",
       "      <td>0.995649</td>\n",
       "      <td>0.992014</td>\n",
       "      <td>0.992067</td>\n",
       "      <td>0.995547</td>\n",
       "      <td>0.997782</td>\n",
       "      <td>0.998366</td>\n",
       "      <td>0.994065</td>\n",
       "      <td>0.997730</td>\n",
       "      <td>0.996337</td>\n",
       "      <td>0.997217</td>\n",
       "    </tr>\n",
       "    <tr>\n",
       "      <th>3.0</th>\n",
       "      <td>0.992848</td>\n",
       "      <td>0.981162</td>\n",
       "      <td>0.982314</td>\n",
       "      <td>0.997133</td>\n",
       "      <td>0.992878</td>\n",
       "      <td>0.992734</td>\n",
       "      <td>0.996592</td>\n",
       "      <td>0.993482</td>\n",
       "      <td>0.986392</td>\n",
       "      <td>0.992388</td>\n",
       "      <td>...</td>\n",
       "      <td>0.993476</td>\n",
       "      <td>0.988037</td>\n",
       "      <td>0.988115</td>\n",
       "      <td>0.993324</td>\n",
       "      <td>0.996673</td>\n",
       "      <td>0.997548</td>\n",
       "      <td>0.991105</td>\n",
       "      <td>0.996595</td>\n",
       "      <td>0.994507</td>\n",
       "      <td>0.995826</td>\n",
       "    </tr>\n",
       "    <tr>\n",
       "      <th>4.0</th>\n",
       "      <td>0.990468</td>\n",
       "      <td>0.974941</td>\n",
       "      <td>0.976468</td>\n",
       "      <td>0.996176</td>\n",
       "      <td>0.990507</td>\n",
       "      <td>0.990316</td>\n",
       "      <td>0.995455</td>\n",
       "      <td>0.991311</td>\n",
       "      <td>0.981882</td>\n",
       "      <td>0.989855</td>\n",
       "      <td>...</td>\n",
       "      <td>0.991304</td>\n",
       "      <td>0.984067</td>\n",
       "      <td>0.984171</td>\n",
       "      <td>0.991100</td>\n",
       "      <td>0.995563</td>\n",
       "      <td>0.996729</td>\n",
       "      <td>0.988147</td>\n",
       "      <td>0.995458</td>\n",
       "      <td>0.992676</td>\n",
       "      <td>0.994433</td>\n",
       "    </tr>\n",
       "  </tbody>\n",
       "</table>\n",
       "<p>5 rows × 432 columns</p>\n",
       "</div>"
      ],
      "text/plain": [
       "               0         1         2         3         4         5    \\\n",
       "event_at                                                               \n",
       "0.0       1.000000  1.000000  1.000000  1.000000  1.000000  1.000000   \n",
       "1.0       0.997616  0.993695  0.994083  0.999045  0.997626  0.997578   \n",
       "2.0       0.995230  0.987411  0.988183  0.998089  0.995250  0.995154   \n",
       "3.0       0.992848  0.981162  0.982314  0.997133  0.992878  0.992734   \n",
       "4.0       0.990468  0.974941  0.976468  0.996176  0.990507  0.990316   \n",
       "\n",
       "               6         7         8         9      ...          422  \\\n",
       "event_at                                            ...                \n",
       "0.0       1.000000  1.000000  1.000000  1.000000    ...     1.000000   \n",
       "1.0       0.998865  0.997827  0.995453  0.997462    ...     0.997826   \n",
       "2.0       0.997728  0.995653  0.990914  0.994922    ...     0.995649   \n",
       "3.0       0.996592  0.993482  0.986392  0.992388    ...     0.993476   \n",
       "4.0       0.995455  0.991311  0.981882  0.989855    ...     0.991304   \n",
       "\n",
       "               423       424       425       426       427       428  \\\n",
       "event_at                                                               \n",
       "0.0       1.000000  1.000000  1.000000  1.000000  1.000000  1.000000   \n",
       "1.0       0.996005  0.996031  0.997774  0.998892  0.999184  0.997033   \n",
       "2.0       0.992014  0.992067  0.995547  0.997782  0.998366  0.994065   \n",
       "3.0       0.988037  0.988115  0.993324  0.996673  0.997548  0.991105   \n",
       "4.0       0.984067  0.984171  0.991100  0.995563  0.996729  0.988147   \n",
       "\n",
       "               429       430       431  \n",
       "event_at                                \n",
       "0.0       1.000000  1.000000  1.000000  \n",
       "1.0       0.998866  0.998170  0.998610  \n",
       "2.0       0.997730  0.996337  0.997217  \n",
       "3.0       0.996595  0.994507  0.995826  \n",
       "4.0       0.995458  0.992676  0.994433  \n",
       "\n",
       "[5 rows x 432 columns]"
      ]
     },
     "execution_count": 25,
     "metadata": {},
     "output_type": "execute_result"
    }
   ],
   "source": [
    "X = rossi_dataset.drop([\"week\", \"arrest\"], axis=1)\n",
    "cph.predict_partial_hazard(X)\n",
    "cph.predict_survival_function(X).head()"
   ]
  },
  {
   "cell_type": "markdown",
   "metadata": {},
   "source": [
    "#### Show Cox Coefficients"
   ]
  },
  {
   "cell_type": "code",
   "execution_count": 26,
   "metadata": {},
   "outputs": [
    {
     "name": "stdout",
     "output_type": "stream",
     "text": [
      "Iteration 1: norm_delta = 0.48337, step_size = 0.95000, ll = -675.38063, seconds_since_start = 0.0\n",
      "Iteration 2: norm_delta = 0.13160, step_size = 0.95000, ll = -659.79004, seconds_since_start = 0.0\n",
      "Iteration 3: norm_delta = 0.01712, step_size = 0.95000, ll = -658.76197, seconds_since_start = 0.0\n",
      "Iteration 4: norm_delta = 0.00103, step_size = 0.95000, ll = -658.74771, seconds_since_start = 0.0\n",
      "Iteration 5: norm_delta = 0.00005, step_size = 0.95000, ll = -658.74766, seconds_since_start = 0.1\n",
      "Iteration 6: norm_delta = 0.00000, step_size = 0.95000, ll = -658.74766, seconds_since_start = 0.1\n",
      "Convergence completed after 6 iterations.\n"
     ]
    },
    {
     "data": {
      "text/plain": [
       "<matplotlib.axes._subplots.AxesSubplot at 0x1ef3b9fdc18>"
      ]
     },
     "execution_count": 26,
     "metadata": {},
     "output_type": "execute_result"
    },
    {
     "data": {
      "image/png": "[encoded data removed]",
      "text/plain": [
       "<Figure size 432x288 with 1 Axes>"
      ]
     },
     "metadata": {},
     "output_type": "display_data"
    }
   ],
   "source": [
    "from lifelines.datasets import load_rossi\n",
    "from lifelines import CoxPHFitter\n",
    "\n",
    "rossi_dataset = load_rossi()\n",
    "cph = CoxPHFitter()\n",
    "cph.fit(rossi_dataset, duration_col='week', event_col='arrest', show_progress=True)\n",
    "\n",
    "cph.plot()"
   ]
  }
 ],
 "metadata": {
  "kernelspec": {
   "display_name": "Python 3",
   "language": "python",
   "name": "python3"
  },
  "language_info": {
   "codemirror_mode": {
    "name": "ipython",
    "version": 3
   },
   "file_extension": ".py",
   "mimetype": "text/x-python",
   "name": "python",
   "nbconvert_exporter": "python",
   "pygments_lexer": "ipython3",
   "version": "3.6.5"
  }
 },
 "nbformat": 4,
 "nbformat_minor": 2
}
