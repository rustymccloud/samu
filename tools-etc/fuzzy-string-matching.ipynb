{
 "cells": [
  {
   "cell_type": "code",
   "execution_count": 1,
   "metadata": {},
   "outputs": [],
   "source": [
    "import pandas as pd\n",
    "import os\n",
    "from fuzzywuzzy import fuzz\n",
    "from fuzzywuzzy import process\n",
    "import progressbar\n",
    "from time import sleep\n",
    "import re\n",
    "\n",
    "os.chdir('newdir')"
   ]
  },
  {
   "cell_type": "code",
   "execution_count": 2,
   "metadata": {},
   "outputs": [],
   "source": [
    "source_data = pd.read_csv('data.csv',encoding='ISO-8859-1')\n",
    "match_set = pd.read_csv('match_data.csv',encoding='ISO-8859-1')\n",
    "states =  pd.read_csv('states.csv',encoding='ISO-8859-1')\n",
    "\n",
    "source_data = source_data.merge(states,left_on='Location Address State/Province',right_on='Abbrev',how='left')\n",
    "match_set = match_set.merge(states,left_on='stateprovcode',right_on='Abbrev',how='left')\n",
    "source_data['State'] = source_data['State'].combine_first(source_data['Location Address State/Province'])\n",
    "match_set['matchname'] = match_set['Location Name'] + ' ' + match_set['Location Address City']\n",
    "source_data['matchname'] = source_data['locationname'] + ' ' + source_data['city']\n",
    "match_set = match_set.dropna(subset=['matchname'])"
   ]
  },
  {
   "cell_type": "code",
   "execution_count": 3,
   "metadata": {},
   "outputs": [],
   "source": [
    "source_data['matchname'].replace(to_replace='[^0-9a-zA-Z ]+', value='',regex=True, inplace=True) \n",
    "source_data['State'].replace(to_replace='[^0-9a-zA-Z ]+', value=' ',regex=True, inplace=True)\n",
    "match_set['matchname'].replace(to_replace='[^0-9a-zA-Z ]+', value='',regex=True, inplace=True) \n",
    "match_set['State'].replace(to_replace='[^0-9a-zA-Z ]+', value=' ',regex=True, inplace=True)"
   ]
  },
  {
   "cell_type": "code",
   "execution_count": 4,
   "metadata": {},
   "outputs": [],
   "source": [
    "source_data = source_data[source_data['State'].str.lower().isin(match_set['State'].str.lower())]\n",
    "source_data = source_data.dropna(subset=['matchname','State'])"
   ]
  },
  {
   "cell_type": "code",
   "execution_count": 5,
   "metadata": {},
   "outputs": [
    {
     "name": "stderr",
     "output_type": "stream",
     "text": [
      "[☮☮☮☮☮☮☮☮☮☮☮☮☮☮☮☮☮☮☮☮☮☮☮☮☮☮☮☮☮☮☮☮☮☮☮☮☮☮☮☮☮☮☮☮☮☮☮☮☮☮☮☮☮☮☮☮☮☮☮☮☮☮☮☮☮☮☮☮☮☮☮☮] 100%\n"
     ]
    }
   ],
   "source": [
    "matchy = pd.DataFrame(columns=['IDENTIFIER','match','score'])\n",
    "\n",
    "bar = progressbar.ProgressBar(maxval=len(fred_mb), \\\n",
    "    widgets=[progressbar.Bar('☮', '[', ']'), ' ', progressbar.Percentage()])\n",
    "bar.start()\n",
    "\n",
    "def fuzzy_match(lookup_value):\n",
    "    e = 0\n",
    "    for i in range(len(lookup_value)):\n",
    "        match_suggested, score = process.extractOne(lookup_value.iloc[i],match_set[mb_match['State'].str.lower() == source_data.iloc[i]['State'].lower()]['matchname'].tolist(),scorer=fuzz.token_set_ratio)\n",
    "        if lookup_value.iloc[i] in pd.unique(match_set['matchname']).tolist():\n",
    "            matchy.loc[-1] = [lookup_value.iloc[i], lookup_value.iloc[i], 100]\n",
    "            matchy.index = matchy.index + 1\n",
    "            matchy.sort_index(inplace=True)\n",
    "        else:\n",
    "            matchy.loc[-1] = [lookup_value.iloc[i], match_suggested, score]\n",
    "            matchy.index = matchy.index + 1\n",
    "            matchy.sort_index(inplace=True)\n",
    "        e+=1\n",
    "        bar.update(e)        \n",
    "    return matchy\n",
    "\n",
    "matching = fuzzy_match(source_data['matchname'])\n",
    "\n",
    "bar.finish()"
   ]
  },
  {
   "cell_type": "code",
   "execution_count": 21,
   "metadata": {},
   "outputs": [],
   "source": [
    "fuzzed_df = source_data.merge(matchy,left_on='matchname',right_on='IDENTIFIER',how='left')\n",
    "fuzzed_df = fuzzed_df.merge(mb_match,left_on='match',right_on='matchname',how='left')\n",
    "fuzzed_df.to_csv('fuzzy_matched_output.csv')"
   ]
  },
  {
   "cell_type": "code",
   "execution_count": 23,
   "metadata": {},
   "outputs": [
    {
     "name": "stdout",
     "output_type": "stream",
     "text": [
      "81% quality matches aka 1099 out of 1351\n"
     ]
    }
   ],
   "source": [
    "print(str(\"{:.0%}\".format(1-(len(fuzzed_df[(fuzzed_df['Data Source External ID'].isna()) &\\\n",
    "                                           (fuzzed_df['score']<88)])/len(fuzzed_df)))) + \\\n",
    "      ' quality matches aka ' + str(len(fuzzed_df)-len(fuzzed_df[(fuzzed_df['Data Source External ID'].isna()) &\\\n",
    "                                                  (fuzzed_df['score']<88)]))+ \\\n",
    "      ' out of '+str(len(fuzzed_df)))"
   ]
  },
  {
   "cell_type": "code",
   "execution_count": 8,
   "metadata": {},
   "outputs": [
    {
     "name": "stderr",
     "output_type": "stream",
     "text": [
      "[NbConvertApp] Converting notebook fuzzy-freddy.ipynb to script\n",
      "[NbConvertApp] Writing 3600 bytes to fuzzy-freddy.py\n"
     ]
    }
   ],
   "source": [
    "!jupyter nbconvert --to script fuzzy-wuzzy.ipynb"
   ]
  }
 ],
 "metadata": {
  "kernelspec": {
   "display_name": "Python 3",
   "language": "python",
   "name": "python3"
  },
  "language_info": {
   "codemirror_mode": {
    "name": "ipython",
    "version": 3
   },
   "file_extension": ".py",
   "mimetype": "text/x-python",
   "name": "python",
   "nbconvert_exporter": "python",
   "pygments_lexer": "ipython3",
   "version": "3.7.1"
  }
 },
 "nbformat": 4,
 "nbformat_minor": 2
}
