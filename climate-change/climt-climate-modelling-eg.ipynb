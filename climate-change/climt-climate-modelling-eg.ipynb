{
 "cells": [
  {
   "cell_type": "markdown",
   "metadata": {},
   "source": [
    "## Climate Change Modelling using Climt"
   ]
  },
  {
   "cell_type": "code",
   "execution_count": 7,
   "metadata": {},
   "outputs": [],
   "source": [
    "import climt\n",
    "import matplotlib.pyplot as plt\n",
    "import numpy as np\n",
    "from sympl import AdamsBashforth\n",
    "from datetime import timedelta"
   ]
  },
  {
   "cell_type": "code",
   "execution_count": 5,
   "metadata": {},
   "outputs": [],
   "source": [
    "# Create some components\n",
    "radiation = climt.GrayLongwaveRadiation()\n",
    "state = climt.get_default_state([radiation])"
   ]
  },
  {
   "cell_type": "code",
   "execution_count": 8,
   "metadata": {},
   "outputs": [],
   "source": [
    "model_time_step = timedelta(hours=1)\n",
    "model = AdamsBashforth([radiation])"
   ]
  },
  {
   "cell_type": "code",
   "execution_count": 9,
   "metadata": {},
   "outputs": [
    {
     "name": "stdout",
     "output_type": "stream",
     "text": [
      "2000-01-01 01:00:00 :  289.96882567458607\n",
      "2000-01-01 02:00:00 :  289.9377097152726\n",
      "2000-01-01 03:00:00 :  289.9066289418279\n",
      "2000-01-01 04:00:00 :  289.8755896761563\n",
      "2000-01-01 05:00:00 :  289.844584776716\n",
      "2000-01-01 06:00:00 :  289.81362324988896\n",
      "2000-01-01 07:00:00 :  289.78269480027757\n",
      "2000-01-01 08:00:00 :  289.7518063986025\n",
      "2000-01-01 09:00:00 :  289.72095925683254\n",
      "2000-01-01 10:00:00 :  289.6901474644026\n"
     ]
    }
   ],
   "source": [
    "for step in range(10):\n",
    "   diagnostics, new_state = model(state, model_time_step)\n",
    "   ''' Update state with diagnostics.\n",
    "   This updated state can be saved if necessary '''\n",
    "   state.update(diagnostics)\n",
    "   '''Update state quantities'''\n",
    "   state.update(new_state)\n",
    "   '''Update model time'''\n",
    "   state['time'] += model_time_step\n",
    "   '''See if the maximum temperature is changing'''\n",
    "   print(state['time'], ': ', state['air_temperature'].max().values)\n",
    "   ' Update state with diagnostics.    This updated state can be saved if necessary '"
   ]
  },
  {
   "cell_type": "code",
   "execution_count": null,
   "metadata": {},
   "outputs": [],
   "source": []
  }
 ],
 "metadata": {
  "kernelspec": {
   "display_name": "Python 3",
   "language": "python",
   "name": "python3"
  },
  "language_info": {
   "codemirror_mode": {
    "name": "ipython",
    "version": 3
   },
   "file_extension": ".py",
   "mimetype": "text/x-python",
   "name": "python",
   "nbconvert_exporter": "python",
   "pygments_lexer": "ipython3",
   "version": "3.6.5"
  }
 },
 "nbformat": 4,
 "nbformat_minor": 2
}
