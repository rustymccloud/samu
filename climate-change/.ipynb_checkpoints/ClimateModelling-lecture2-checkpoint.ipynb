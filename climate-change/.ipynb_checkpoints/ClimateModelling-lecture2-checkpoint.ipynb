{
 "cells": [
  {
   "cell_type": "markdown",
   "metadata": {},
   "source": [
    "## Climate Change Modelling using Climt"
   ]
  },
  {
   "cell_type": "code",
   "execution_count": 1,
   "metadata": {},
   "outputs": [],
   "source": [
    "import climt\n",
    "import matplotlib.pyplot as plt\n",
    "%matplotlib inline\n",
    "import pandas as pd\n",
    "import numpy as np\n",
    "from sympl import AdamsBashforth\n",
    "from datetime import timedelta\n",
    "\n",
    "from ipywidgets import interact, interactive, fixed, interact_manual\n",
    "import ipywidgets as widgets\n",
    "from IPython.display import display\n",
    "\n",
    "from scipy.optimize import curve_fit as cf"
   ]
  },
  {
   "cell_type": "code",
   "execution_count": 2,
   "metadata": {},
   "outputs": [
    {
     "data": {
      "application/vnd.jupyter.widget-view+json": {
       "model_id": "882202c9409d47b994483166d2c6bf5d",
       "version_major": 2,
       "version_minor": 0
      },
      "text/plain": [
       "ToggleButtons(description='Speed:', options=('Slow', 'Regular', 'Fast'), tooltips=('Description of slow', 'Des…"
      ]
     },
     "metadata": {},
     "output_type": "display_data"
    }
   ],
   "source": [
    "widgets.ToggleButtons(\n",
    "    options=['Slow', 'Regular', 'Fast'],\n",
    "    description='Speed:',\n",
    "    disabled=False,\n",
    "    button_style='', # 'success', 'info', 'warning', 'danger' or ''\n",
    "    tooltips=['Description of slow', 'Description of regular', 'Description of fast'],\n",
    "#     icons=['check'] * 3\n",
    ")"
   ]
  },
  {
   "cell_type": "code",
   "execution_count": 3,
   "metadata": {},
   "outputs": [
    {
     "data": {
      "application/vnd.jupyter.widget-view+json": {
       "model_id": "43d6a671d68c4e508498f21730492f60",
       "version_major": 2,
       "version_minor": 0
      },
      "text/plain": [
       "HBox(children=(Play(value=50, description='Press play'), IntSlider(value=0)))"
      ]
     },
     "metadata": {},
     "output_type": "display_data"
    }
   ],
   "source": [
    "play = widgets.Play(\n",
    "#     interval=10,\n",
    "    value=50,\n",
    "    min=0,\n",
    "    max=100,\n",
    "    step=1,\n",
    "    description=\"Press play\",\n",
    "    disabled=False\n",
    ")\n",
    "slider = widgets.IntSlider()\n",
    "widgets.jslink((play, 'value'), (slider, 'value'))\n",
    "widgets.HBox([play, slider])"
   ]
  },
  {
   "cell_type": "code",
   "execution_count": 4,
   "metadata": {},
   "outputs": [],
   "source": [
    "damped_levels = widgets.IntSlider(\n",
    "    value=7,\n",
    "    min=0,\n",
    "    max=10,\n",
    "    step=1,\n",
    "    description='Test:',\n",
    "    disabled=False,\n",
    "    continuous_update=False,\n",
    "    orientation='horizontal',\n",
    "    readout=True,\n",
    "    readout_format='d'\n",
    ")"
   ]
  },
  {
   "cell_type": "code",
   "execution_count": 6,
   "metadata": {},
   "outputs": [
    {
     "data": {
      "application/vnd.jupyter.widget-view+json": {
       "model_id": "cfe8188bf7e846a49e84250a1ec4f7f4",
       "version_major": 2,
       "version_minor": 0
      },
      "text/plain": [
       "IntSlider(value=7, continuous_update=False, description='Test:', max=10)"
      ]
     },
     "metadata": {},
     "output_type": "display_data"
    }
   ],
   "source": [
    "damped_levels"
   ]
  },
  {
   "cell_type": "code",
   "execution_count": 7,
   "metadata": {},
   "outputs": [
    {
     "name": "stdout",
     "output_type": "stream",
     "text": [
      "0.29856431292118374\n",
      "254.90906018694804\n",
      "0.885100903426903\n"
     ]
    }
   ],
   "source": [
    "sigma = 5.67E-8  #  Stefan-Boltzmann constant in W/m2/K4\n",
    "Q = 341.3  #  global mean insolation in W/m2\n",
    "alpha = 101.9 / Q    #  observed planetary albedo\n",
    "print(alpha)\n",
    "Te = ((1-alpha)*Q/sigma)**0.25  #  Emission temperature (definition)\n",
    "print(Te)\n",
    "Tsbar = 288.  # global mean surface temperature in K\n",
    "beta = Te / Tsbar   #  Calculate value of beta from observations\n",
    "print(beta)"
   ]
  },
  {
   "cell_type": "code",
   "execution_count": 8,
   "metadata": {},
   "outputs": [
    {
     "name": "stdout",
     "output_type": "stream",
     "text": [
      "288.0\n"
     ]
    }
   ],
   "source": [
    "print( ((1-alpha)*Q/sigma)**0.25 /beta)"
   ]
  },
  {
   "cell_type": "code",
   "execution_count": 9,
   "metadata": {},
   "outputs": [
    {
     "name": "stdout",
     "output_type": "stream",
     "text": [
      "lambda_0 = 3.33 W m-2 K-1\n"
     ]
    }
   ],
   "source": [
    "lambda_0 = 4 * sigma * beta**4 * Tsbar**3\n",
    "#  This is an example of formatted text output in Python\n",
    "print( 'lambda_0 = {:.2f} W m-2 K-1'.format(lambda_0)  )"
   ]
  },
  {
   "cell_type": "code",
   "execution_count": 10,
   "metadata": {},
   "outputs": [
    {
     "name": "stdout",
     "output_type": "stream",
     "text": [
      "The e-folding time is 1.20e+08 seconds or about 4 years.\n"
     ]
    }
   ],
   "source": [
    "c_w = 4E3  #  Specific heat of water in J/kg/K\n",
    "rho_w = 1E3  #  Density of water in kg/m3\n",
    "H = 100.   #  Depth of water in m\n",
    "C = c_w * rho_w * H   #  Heat capacity of the model in J/m2/K\n",
    "tau = C / lambda_0   #  Calculated value of relaxation time constant\n",
    "seconds_per_year = 60.*60.*24.*365.\n",
    "print( 'The e-folding time is {:1.2e} seconds or about {:1.0f} years.'.format(tau, tau / seconds_per_year))"
   ]
  },
  {
   "cell_type": "code",
   "execution_count": 11,
   "metadata": {},
   "outputs": [
    {
     "name": "stdout",
     "output_type": "stream",
     "text": [
      "[0.00000000e+00 1.22755869e+07 2.45511739e+07 3.68267608e+07\n",
      " 4.91023477e+07 6.13779346e+07 7.36535216e+07 8.59291085e+07\n",
      " 9.82046954e+07 1.10480282e+08 1.22755869e+08 1.35031456e+08\n",
      " 1.47307043e+08 1.59582630e+08 1.71858217e+08 1.84133804e+08\n",
      " 1.96409391e+08 2.08684978e+08 2.20960565e+08 2.33236152e+08\n",
      " 2.45511739e+08 2.57787325e+08 2.70062912e+08 2.82338499e+08\n",
      " 2.94614086e+08 3.06889673e+08 3.19165260e+08 3.31440847e+08\n",
      " 3.43716434e+08 3.55992021e+08 3.68267608e+08 3.80543195e+08\n",
      " 3.92818782e+08 4.05094369e+08 4.17369956e+08 4.29645542e+08\n",
      " 4.41921129e+08 4.54196716e+08 4.66472303e+08 4.78747890e+08\n",
      " 4.91023477e+08 5.03299064e+08 5.15574651e+08 5.27850238e+08\n",
      " 5.40125825e+08 5.52401412e+08 5.64676999e+08 5.76952586e+08\n",
      " 5.89228172e+08 6.01503759e+08]\n"
     ]
    }
   ],
   "source": [
    "import numpy as np\n",
    "t = np.linspace(0, 5*tau)  # a time array\n",
    "print(t)"
   ]
  },
  {
   "cell_type": "code",
   "execution_count": 12,
   "metadata": {},
   "outputs": [
    {
     "data": {
      "text/plain": [
       "(50,)"
      ]
     },
     "execution_count": 12,
     "metadata": {},
     "output_type": "execute_result"
    }
   ],
   "source": [
    "type(t)\n",
    "\n",
    "t.shape  # a tuple showing the dimensions of the array\n",
    "\n",
    "Tsprime0 = 6.  # initial temperature perturbation\n",
    "#  Here we define the actual solution\n",
    "Tsprime = Tsbar + Tsprime0 * np.exp(-t/tau)  \n",
    "Tsprime.shape\n",
    "#  got the same size array\n",
    "#  the numpy function np.exp() operated simultaneously\n",
    "#  on all elements of the array"
   ]
  },
  {
   "cell_type": "code",
   "execution_count": 13,
   "metadata": {},
   "outputs": [
    {
     "name": "stdout",
     "output_type": "stream",
     "text": [
      "[294.         293.41795616 292.89237483 292.41777873 291.98922192\n",
      " 291.60223825 291.25279482 290.93724996 290.65231525 290.3950213\n",
      " 290.16268673 289.95289032 289.76344569 289.59237857 289.43790622\n",
      " 289.29841881 289.1724627  289.05872525 288.95602117 288.86328013\n",
      " 288.77953565 288.703915   288.6356301  288.57396934 288.51829012\n",
      " 288.46801219 288.42261159 288.38161518 288.34459572 288.31116741\n",
      " 288.2809819  288.2537246  288.22911146 288.20688598 288.18681653\n",
      " 288.16869396 288.15232941 288.13755235 288.12420876 288.11215961\n",
      " 288.1012793  288.09145447 288.08258272 288.07457159 288.0673376\n",
      " 288.06080536 288.0549068  288.04958044 288.04477077 288.04042768]\n"
     ]
    }
   ],
   "source": [
    "#  And here is the solution array\n",
    "print(Tsprime)"
   ]
  },
  {
   "cell_type": "code",
   "execution_count": null,
   "metadata": {},
   "outputs": [],
   "source": [
    "#  use a more convenient unit for time\n",
    "plt.plot(t / seconds_per_year, Tsprime)\n",
    "\n",
    "#  Or add some helpful labels\n",
    "plt.plot(t / seconds_per_year, Tsprime) \n",
    "plt.xlabel('Years')\n",
    "plt.ylabel('Global mean temperature (K)')\n",
    "plt.title('Relaxation to equilibrium temperature')"
   ]
  }
 ],
 "metadata": {
  "kernelspec": {
   "display_name": "Python 3",
   "language": "python",
   "name": "python3"
  },
  "language_info": {
   "codemirror_mode": {
    "name": "ipython",
    "version": 3
   },
   "file_extension": ".py",
   "mimetype": "text/x-python",
   "name": "python",
   "nbconvert_exporter": "python",
   "pygments_lexer": "ipython3",
   "version": "3.6.5"
  }
 },
 "nbformat": 4,
 "nbformat_minor": 2
}
