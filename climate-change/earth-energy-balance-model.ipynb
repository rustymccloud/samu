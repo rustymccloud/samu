{
 "cells": [
  {
   "cell_type": "markdown",
   "metadata": {},
   "source": [
    "# Global Warming II\n",
    "\n",
    "## Week 1: Time-Stepping Naked Planet Model\n",
    "\n",
    "The **naked planet model** is an energy balance model, with energy coming in at some rate (from sunlight, with some energy lost due to albedo effect), and energy flowing out at a rate *dependent on the temperature of the planet*. **Heat capacity** (the jewels it takes to raise the temperature of one square meeter of the surface by one degree kelvin) is dependent on water depth which acts as a heat sink."
   ]
  },
  {
   "cell_type": "markdown",
   "metadata": {},
   "source": [
    "Change in heat content over time formula is **incoming solar heat** - **outgoing infrared**"
   ]
  },
  {
   "cell_type": "raw",
   "metadata": {},
   "source": [
    "dHeatContentdt = L*(1-albedo)/4 - epsilon * sigma * T^4"
   ]
  },
  {
   "cell_type": "markdown",
   "metadata": {},
   "source": [
    "heat content is related to the temperature by the heat capacity"
   ]
  },
  {
   "cell_type": "raw",
   "metadata": {},
   "source": [
    "T[K] = HeatContent [J/m2] / HeatCapacity [J/m2 K]"
   ]
  },
  {
   "cell_type": "markdown",
   "metadata": {},
   "source": [
    "To extrapolate heat content:"
   ]
  },
  {
   "cell_type": "raw",
   "metadata": {},
   "source": [
    "HeatContent(t+1) = HeatContent(t) + dHeatContent/dT * TimeStep"
   ]
  },
  {
   "cell_type": "markdown",
   "metadata": {},
   "source": [
    "Now, we begin **Assignment 1**"
   ]
  },
  {
   "cell_type": "markdown",
   "metadata": {},
   "source": [
    "We'll define the following constraints:"
   ]
  },
  {
   "cell_type": "code",
   "execution_count": 49,
   "metadata": {},
   "outputs": [
    {
     "name": "stdout",
     "output_type": "stream",
     "text": [
      "236.25\n"
     ]
    }
   ],
   "source": [
    "timeStep = 100          # years\n",
    "waterDepth = 4000.0        # meters\n",
    "L = 1350.0                 # Watts/m2\n",
    "albedo = 0.3\n",
    "epsilon = 1.0\n",
    "sigma = .0000000567          # W/m2 K4\n",
    "influx = (L*(1.0-albedo)/4.0)\n",
    "\n",
    "print influx"
   ]
  },
  {
   "cell_type": "code",
   "execution_count": 52,
   "metadata": {},
   "outputs": [],
   "source": [
    "import numpy\n",
    "import matplotlib.pyplot\n",
    "\n",
    "#user defined intervals to progress model\n",
    "#nSteps = int(input(\"\"))"
   ]
  },
  {
   "cell_type": "code",
   "execution_count": 65,
   "metadata": {},
   "outputs": [
    {
     "name": "stdout",
     "output_type": "stream",
     "text": [
      "23388.75 0\n"
     ]
    }
   ],
   "source": [
    "#initializing arrays for time and temp\n",
    "time_list = [0]\n",
    "temp_list = [0]\n",
    "temp = 0\n",
    "\n",
    "for i in range(1,timeStep):\n",
    "    time_list.append( i )\n",
    "    temp = temp + influx - (epsilon * sigma * (T**4))\n",
    "    temp_list.append(temp)\n",
    "\n",
    "\n",
    "print temp_list[-1], temp_list[0]"
   ]
  },
  {
   "cell_type": "code",
   "execution_count": 14,
   "metadata": {},
   "outputs": [
    {
     "name": "stdout",
     "output_type": "stream",
     "text": [
      "[0, 1, 2, 3, 4, 5, 6, 7, 8, 9, 10, 11, 12, 13, 14, 15, 16, 17, 18, 19, 1350, 2700, 4050, 5400, 6750, 8100, 9450, 10800, 12150, 13500, 14850, 16200, 17550, 18900, 20250, 21600, 22950, 24300, 25650]\n"
     ]
    }
   ],
   "source": []
  },
  {
   "cell_type": "code",
   "execution_count": 64,
   "metadata": {},
   "outputs": [
    {
     "data": {
      "image/png": "[encoded data removed]",
      "text/plain": [
       "<matplotlib.figure.Figure at 0x10cd35090>"
      ]
     },
     "metadata": {},
     "output_type": "display_data"
    }
   ],
   "source": [
    "matplotlib.pyplot.plot( time_list, temp_list)\n",
    "matplotlib.pyplot.show()"
   ]
  },
  {
   "cell_type": "markdown",
   "metadata": {},
   "source": [
    "Final result:"
   ]
  },
  {
   "cell_type": "code",
   "execution_count": 11,
   "metadata": {},
   "outputs": [
    {
     "ename": "NameError",
     "evalue": "name 'TK' is not defined",
     "output_type": "error",
     "traceback": [
      "\u001b[0;31m---------------------------------------------------------------------------\u001b[0m",
      "\u001b[0;31mNameError\u001b[0m                                 Traceback (most recent call last)",
      "\u001b[0;32m<ipython-input-11-651c01b9f3ad>\u001b[0m in \u001b[0;36m<module>\u001b[0;34m()\u001b[0m\n\u001b[0;32m----> 1\u001b[0;31m \u001b[0;32mprint\u001b[0m\u001b[0;34m(\u001b[0m\u001b[0mTK\u001b[0m\u001b[0;34m[\u001b[0m\u001b[0;34m-\u001b[0m\u001b[0;36m1\u001b[0m\u001b[0;34m]\u001b[0m\u001b[0;34m,\u001b[0m \u001b[0mheatOut\u001b[0m\u001b[0;34m)\u001b[0m\u001b[0;34m\u001b[0m\u001b[0m\n\u001b[0m",
      "\u001b[0;31mNameError\u001b[0m: name 'TK' is not defined"
     ]
    }
   ],
   "source": [
    "print(TK[-1], heatOut)"
   ]
  }
 ],
 "metadata": {
  "kernelspec": {
   "display_name": "Python 3",
   "language": "python",
   "name": "python3"
  },
  "language_info": {
   "codemirror_mode": {
    "name": "ipython",
    "version": 3
   },
   "file_extension": ".py",
   "mimetype": "text/x-python",
   "name": "python",
   "nbconvert_exporter": "python",
   "pygments_lexer": "ipython3",
   "version": "3.6.5"
  }
 },
 "nbformat": 4,
 "nbformat_minor": 2
}
