{
 "cells": [
  {
   "cell_type": "code",
   "execution_count": null,
   "metadata": {},
   "outputs": [],
   "source": [
    "import pandas as pd\n",
    "import numpy as np\n",
    "\n",
    "from constants import *\n",
    "from emissions_parser import emissions\n",
    "from concs_pulse_decay import pulse_decay_runner\n",
    "from beam_carbon.beam import BEAMCarbon\n",
    "beam = BEAMCarbon()\n",
    "from radiative_forcing import calc_radiative_forcing\n",
    "from heat_diffusion import continuous_diffusion_model\n"
   ]
  },
  {
   "cell_type": "code",
   "execution_count": 16,
   "metadata": {},
   "outputs": [
    {
     "name": "stdout",
     "output_type": "stream",
     "text": [
      "Collecting beam_carbon\n"
     ]
    },
    {
     "name": "stderr",
     "output_type": "stream",
     "text": [
      "  Could not find a version that satisfies the requirement beam_carbon (from versions: )\n",
      "No matching distribution found for beam_carbon\n"
     ]
    }
   ],
   "source": [
    "!pip install beam_carbon"
   ]
  },
  {
   "cell_type": "markdown",
   "metadata": {},
   "source": [
    "### Constants"
   ]
  },
  {
   "cell_type": "code",
   "execution_count": 15,
   "metadata": {},
   "outputs": [
    {
     "name": "stdout",
     "output_type": "stream",
     "text": [
      "Collecting emissions_parser\n"
     ]
    },
    {
     "name": "stderr",
     "output_type": "stream",
     "text": [
      "  Could not find a version that satisfies the requirement emissions_parser (from versions: )\n",
      "No matching distribution found for emissions_parser\n"
     ]
    }
   ],
   "source": [
    "#Constants used in SimMod modules\n",
    "\n",
    "TEMP_0 = 10.                #Mean Earth surface temp (degrees C)\n",
    "C_TO_CO2 = 3.67\n",
    "PGC_TO_MOL = 1e15/12.\n",
    "MOLES_IN_ATMOSPHERE = 1.8 * 10.**20.\n",
    "GRAMS_PER_MOLE_CO2 = 44.01\n",
    "GRAMS_PER_MOLE_CH4 = 16.04\n",
    "GRAMS_PER_MOLE_N2O = 44.01\n",
    "CO2_PER_TON_CH4 = 1.5       #Tons CO2 produced when ton CH4 decays\n",
    "CH4_EFOLD = 10.\n",
    "N2O_EFOLD = 114.\n",
    "CO2_PPM_1750 = 277.01467\n",
    "CH4_PPB_1750 = 721.89411\n",
    "N2O_PPB_1750 = 272.95961\n",
    "\n",
    "CH4_IND_FORCING_SCALAR = 1. #0.970 / 0.641 #Based on IPCC AR5 WG1 Chapter 8 Supp Mats table 8.SM.6. \n",
    "#Accounts for indirect CH4 forcing due to tropospheric ozone and stratospheric water vapor. Assumed to scale linearly with atmospheric CH4.\n"
   ]
  },
  {
   "cell_type": "markdown",
   "metadata": {},
   "source": [
    "### Emissions Parser"
   ]
  },
  {
   "cell_type": "code",
   "execution_count": null,
   "metadata": {},
   "outputs": [],
   "source": [
    "def emissions(run_start_year, run_end_year, dt, rcp, add_start = 0, \n",
    "              add_end = 0, c_add = 0, ch4_add = 0, n2o_add = 0):\n",
    "    \"\"\"\n",
    "    Take annual emissions from a RCP scenario and return\n",
    "    emissions by specified start date, end date, and time step\n",
    "    \"\"\"\n",
    "    run_years = run_end_year - run_start_year + 1 \n",
    "    rcp_emissions = pd.read_csv('emissions/rcp_'+rcp+'_data.csv', sep=',')\n",
    "    historic_emissions = pd.read_csv('emissions/historical_ghgs.csv', sep=',')\n",
    "    emissions = rcp_emissions.append(historic_emissions, ignore_index=True)\n",
    "    emissions.sort(columns='year', inplace=True)\n",
    "    emissions.reset_index(inplace=True)\n",
    "    if add_start > 0:\n",
    "        emissions.loc[(\n",
    "            (emissions['year'] >= add_start) & (emissions['year'] <= add_end), \n",
    "            'c_emissions_pg')] = emissions['c_emissions_pg'] + c_add\n",
    "        emissions.loc[(\n",
    "            (emissions['year'] >= add_start) & (emissions['year'] <= add_end), \n",
    "            'ch4_emissions_tg')] = emissions['ch4_emissions_tg'] + ch4_add\n",
    "        emissions.loc[(\n",
    "            (emissions['year'] >= add_start) & (emissions['year'] <= add_end), \n",
    "            'n2o_emissions_tg')] = emissions['n2o_emissions_tg'] + n2o_add\n",
    "    \n",
    "    total_years = emissions.shape[0]\n",
    "    subset = emissions[int(run_start_year - 1765):int(run_end_year - 1765 + 1)]\n",
    "    subset.reset_index(inplace=True)\n",
    "    date = np.array([np.arange(0, run_years, dt)]).T\n",
    "    columns = ['date']\n",
    "    df = pd.DataFrame(date, columns=columns)\n",
    "    steps = df.shape[0]\n",
    "\n",
    "    for t in range(0,int(steps)):\n",
    "        df.ix[t, 'year'] = subset['year'][int(df['date'][t])]\n",
    "        df.ix[t, 'co2_pg'] = subset['c_emissions_pg'][int(df['date'][t])] * dt * C_TO_CO2\n",
    "        df.ix[t, 'ch4_tg'] = subset['ch4_emissions_tg'][int(df['date'][t])] * dt\n",
    "        df.ix[t, 'n2o_tg'] = subset['n2o_emissions_tg'][int(df['date'][t])] * dt\n",
    "        df.ix[t, 'hist_forcing_wm2'] = subset['hist_forcing_wm2'][int(df['date'][t])]\n",
    "        df.ix[t, 'co2_forcing_rcp'] = subset['co2_forcing_wm2'][int(df['date'][t])]\n",
    "        df.ix[t, 'ch4_forcing_rcp'] = subset['ch4_forcing_wm2'][int(df['date'][t])]\n",
    "        df.ix[t, 'n2o_forcing_rcp'] = subset['n2o_forcing_wm2'][int(df['date'][t])]\n",
    "        df.ix[t, 'total_forcing_rcp'] = subset['total_forcing_wm2'][int(df['date'][t])]\n",
    "        df.ix[t, 'rcp_co2_ppm'] = subset['co2_concentration_ppm'][int(df['date'][t])]\n",
    "        df.ix[t, 'rcp_ch4_ppb'] = subset['ch4_concentration_ppb'][int(df['date'][t])]\n",
    "        df.ix[t, 'rcp_n2o_ppb'] = subset['n2o_concentration_ppb'][int(df['date'][t])]\n",
    "    \n",
    "    df['rcp_co2_ppm'].fillna(CO2_PPM_1750, inplace=True)\n",
    "    df['rcp_ch4_ppb'].fillna(CH4_PPB_1750, inplace=True)\n",
    "    df['rcp_n2o_ppb'].fillna(N2O_PPB_1750, inplace=True)\n",
    "    \n",
    "    return df"
   ]
  },
  {
   "cell_type": "markdown",
   "metadata": {},
   "source": [
    "### Pulse Decay"
   ]
  },
  {
   "cell_type": "code",
   "execution_count": null,
   "metadata": {},
   "outputs": [],
   "source": [
    "def pulse_decay_runner(run_years, dt, emissions):\n",
    "    \"\"\"\n",
    "    Simple pulse response model adapted from Myhrvold and Caldeira (2012)\n",
    "    adapted from Joos et al (1996)\n",
    "    \"\"\"\n",
    "    df = emissions\n",
    "    co2_0 = df['rcp_co2_ppm'][0] \n",
    "    ch4_0 = df['rcp_ch4_ppb'][0] \n",
    "    n2o_0 = df['rcp_n2o_ppb'][0]\n",
    "\n",
    "    run_year = 0\n",
    "    df['co2_pg_atm'] = 0\n",
    "    df['ch4_tg_atm'] = 0\n",
    "    df['n2o_tg_atm'] = 0\n",
    "    df['ch4_co2_decay_marginal'] = 0\n",
    "    while run_year < run_years:\n",
    "        df['ch4_step'] = (\n",
    "            df['ch4_tg'][int(run_year / dt)] * \n",
    "            np.exp(-(df['date'] - run_year) / CH4_EFOLD)\n",
    "        )\n",
    "        df['ch4_step'][0:int(run_year / dt)] = 0\n",
    "        \n",
    "        df['ch4_co2_decay'] = (df['ch4_tg'][int(run_year / dt)] - df['ch4_step']) * CO2_PER_TON_CH4 / 10**3\n",
    "        #convert from TgC to PgC\n",
    "\n",
    "        df['ch4_co2_decay'][0:int(run_year / dt)] = 0\n",
    "        df['ch4_co2_decay_marginal'] += df['ch4_co2_decay'].diff(-1) * -1\n",
    "        df['ch4_co2_decay_marginal'][-1:] = 0\n",
    "\n",
    "        df['co2_step'] = (\n",
    "            (df['co2_pg'][int(run_year / dt)] + df['ch4_co2_decay_marginal'][int(run_year / dt)]) * \n",
    "            (0.217 + 0.259 * np.exp(-(df['date'] - run_year) / 172.9) + \n",
    "            0.338 * np.exp(-(df['date'] - run_year) / 18.51) + \n",
    "            0.186 * np.exp(-(df['date'] - run_year) / 1.186))\n",
    "        )\n",
    "\n",
    "        df['n2o_step'] = (\n",
    "            df['n2o_tg'][int(run_year / dt)] * \n",
    "            np.exp(-(df['date'] - run_year) / N2O_EFOLD)\n",
    "        )\n",
    "        df['co2_step'][0:int(run_year / dt)] = 0\n",
    "        df['n2o_step'][0:int(run_year / dt)] = 0\n",
    "\n",
    "        df['co2_pg_atm'] += df['co2_step']\n",
    "        df['ch4_tg_atm'] += df['ch4_step']\n",
    "        df['n2o_tg_atm'] += df['n2o_step']\n",
    "\n",
    "        run_year += dt\n",
    "\n",
    "    df['co2_ppm']  = (\n",
    "        co2_0 + (df['co2_pg_atm'] * 10.**15. / GRAMS_PER_MOLE_CO2) / \n",
    "        MOLES_IN_ATMOSPHERE * 10.**6.\n",
    "    )\n",
    "\n",
    "    df['ch4_ppb']  = (\n",
    "        ch4_0 + (df['ch4_tg_atm'] * 10.**12. / GRAMS_PER_MOLE_CH4) / \n",
    "        MOLES_IN_ATMOSPHERE * 10.**9.\n",
    "    )\n",
    "\n",
    "    df['n2o_ppb']  = (\n",
    "        n2o_0 + (df['n2o_tg_atm'] * 10.**12. / GRAMS_PER_MOLE_N2O) / \n",
    "        MOLES_IN_ATMOSPHERE * 10.**9.\n",
    "    )\n",
    "    df = df.drop(['ch4_step', 'co2_step', 'n2o_step', 'ch4_co2_decay'], axis=1)\n",
    "    return df"
   ]
  },
  {
   "cell_type": "markdown",
   "metadata": {},
   "source": [
    "### Heat Diffusion"
   ]
  },
  {
   "cell_type": "code",
   "execution_count": null,
   "metadata": {},
   "outputs": [],
   "source": [
    "#Model Variables\n",
    "LAYER_HEIGHT = 100.\n",
    "TOTAL_HEIGHT = 3700.\n",
    "\n",
    "#Model Constants\n",
    "HEAT_CAPACITY = 3985. * 1024.5 # J m^-3 K^-1\n",
    "KAPPA = 5.5 * 10**-5           #m^2 s^-1\n",
    "OCEAN_PERCENT = 0.71\n",
    "\n",
    "\n",
    "def diffeqs(df, dt, fradfor, clim_sens):\n",
    "    \"\"\"\n",
    "    Differential equation for flux down.\n",
    "    \"\"\"\n",
    "    steps = df.shape[0]\n",
    "    df.ix[0, 'fluxdown'] = (\n",
    "        (((fradfor - clim_sens * df['tocean']) / HEAT_CAPACITY) * dt)[0]\n",
    "    )\n",
    "    df['fluxdown'] = (\n",
    "        (KAPPA * (df['tocean'].shift(1) - df['tocean']) / LAYER_HEIGHT) * dt\n",
    "    )\n",
    "    df.ix[0, 'fluxdown'] = (\n",
    "        (((fradfor - clim_sens * df['tocean']) / HEAT_CAPACITY) * dt)[0]\n",
    "    )\n",
    "\n",
    "    df['dtocean'] = (df['fluxdown'].diff(periods = -1) / LAYER_HEIGHT) * dt\n",
    "\n",
    "    df.ix[(steps - 1), 'dtocean'] = (\n",
    "        (df['fluxdown'] / LAYER_HEIGHT * dt)[steps - 1]\n",
    "    )\n",
    "    return df\n",
    "\n",
    "\n",
    "def continuous_diffusion_model(results, run_years, dt, clim_sens):\n",
    "    \"\"\"\n",
    "    Implement the continuous diffusion model\n",
    "    used in Myhrvold and Cairdira (2011).\n",
    "    \"\"\"\n",
    "    z = np.array([np.arange(0, (TOTAL_HEIGHT + LAYER_HEIGHT), LAYER_HEIGHT)]).T\n",
    "    columns = ['z']\n",
    "    df = pd.DataFrame(z, columns=columns)\n",
    "    df['tocean'] = 0\n",
    "    df['dtocean'] = 0\n",
    "    df['fluxdown'] = 0\n",
    "    fradfor = results['total_forcing'][0]\n",
    "    df = diffeqs(df, dt, fradfor, clim_sens)\n",
    "\n",
    "    for t in range(0,int(run_years / dt)):\n",
    "        fradfor = results['total_forcing'][t]\n",
    "        df['tocean'] += dt * df['dtocean'] * 365 * 24 * 60 * 60\n",
    "        df = diffeqs(df, dt, fradfor, clim_sens)\n",
    "        results.ix[t, 't_os'] = df.ix[0, 'tocean']\n",
    "\n",
    "    results['t_eq'] = results['total_forcing'] / clim_sens\n",
    "    results['t_s'] = (\n",
    "        results['t_os'] * OCEAN_PERCENT + \n",
    "        results['t_eq'] * (1 - OCEAN_PERCENT)\n",
    "    )\n",
    "\n",
    "    return results"
   ]
  },
  {
   "cell_type": "code",
   "execution_count": 14,
   "metadata": {
    "scrolled": true
   },
   "outputs": [
    {
     "ename": "ModuleNotFoundError",
     "evalue": "No module named 'emissions_parser'",
     "output_type": "error",
     "traceback": [
      "\u001b[1;31m---------------------------------------------------------------------------\u001b[0m",
      "\u001b[1;31mModuleNotFoundError\u001b[0m                       Traceback (most recent call last)",
      "\u001b[1;32m<ipython-input-14-766f9353c650>\u001b[0m in \u001b[0;36m<module>\u001b[1;34m()\u001b[0m\n\u001b[0;32m      3\u001b[0m \u001b[1;33m\u001b[0m\u001b[0m\n\u001b[0;32m      4\u001b[0m \u001b[1;32mfrom\u001b[0m \u001b[0mconstants\u001b[0m \u001b[1;32mimport\u001b[0m \u001b[1;33m*\u001b[0m\u001b[1;33m\u001b[0m\u001b[0m\n\u001b[1;32m----> 5\u001b[1;33m \u001b[1;32mfrom\u001b[0m \u001b[0memissions_parser\u001b[0m \u001b[1;32mimport\u001b[0m \u001b[0memissions\u001b[0m\u001b[1;33m\u001b[0m\u001b[0m\n\u001b[0m\u001b[0;32m      6\u001b[0m \u001b[1;32mfrom\u001b[0m \u001b[0mconcs_pulse_decay\u001b[0m \u001b[1;32mimport\u001b[0m \u001b[0mpulse_decay_runner\u001b[0m\u001b[1;33m\u001b[0m\u001b[0m\n\u001b[0;32m      7\u001b[0m \u001b[1;32mfrom\u001b[0m \u001b[0mbeam_carbon\u001b[0m\u001b[1;33m.\u001b[0m\u001b[0mbeam\u001b[0m \u001b[1;32mimport\u001b[0m \u001b[0mBEAMCarbon\u001b[0m\u001b[1;33m\u001b[0m\u001b[0m\n",
      "\u001b[1;31mModuleNotFoundError\u001b[0m: No module named 'emissions_parser'"
     ]
    }
   ],
   "source": [
    "\n",
    "#Model Parameters\n",
    "run_start_year = 1765.          #Run start year\n",
    "run_end_year = 2100.            #Inclusive of end year\n",
    "dt = 1 #/ 100.                  #years\n",
    "rcp = '8.5'                     #RCP scenario\n",
    "carbon_model = 'pulse response' #'pulse response', 'box diffusion', or 'BEAM'\n",
    "normalize_2000_conc = True      #Normalize concentrations to historical year-2000 values\n",
    "c_sens = 1.25                   #Climate sensativity (T = F / LAMBDA)\n",
    "\n",
    "#BEAM Model Settings (when relevant)\n",
    "SUBSTEPS = 100                  #Break each timestep into this many substeps\n",
    "INIT_MAT = 596.                 #In GtC; 596 = preindustrial; 809 = 2005\n",
    "INIT_MUP = 713.                 #In GtC; 713 = preindustrial; 725 = 2005\n",
    "INIT_MLO = 35625.               #In GtC; 35625 = preindustrial; 35641 = 2005\n",
    "\n",
    "#Ocean Box Diffusion Model Settings (when relevant)\n",
    "MIXING = 'probable'             #options 'fast', 'slow', or 'probable'\n",
    "DZ = 100                        #meters - thickness of each layer in the deep ocean\n",
    "\n",
    "\n",
    "def run_simmod(run_start_year, run_end_year, dt, rcp, c_sens = c_sens, add_start = 0, \n",
    "               add_end = 0, c_add = 0, ch4_add = 0, n2o_add = 0):\n",
    "    \"\"\"\n",
    "    Run the various parts of SimMod and export images and CSV files.\n",
    "    \"\"\"\n",
    "    run_years = (run_end_year - run_start_year + 1)\n",
    "    emission_vals = emissions(run_start_year, run_end_year, dt, rcp, \n",
    "                              add_start, add_end, c_add, ch4_add, n2o_add)\n",
    "    conc = pulse_decay_runner(run_years, dt, emission_vals)\n",
    "\n",
    "    if carbon_model == 'BEAM':\n",
    "        beam._initial_carbon = np.array([596., 713., 35625.])\n",
    "        beam.intervals = SUBSTEPS\n",
    "        beam.time_step = dt\n",
    "        beam.emissions = emission_vals['co2_pg'] / C_TO_CO2\n",
    "        beam_results = pd.melt(beam.run()[0:1])\n",
    "        conc['co2_ppm'] = beam_results['value'] * PGC_TO_MOL * 1e6 / MOLES_IN_ATMOSPHERE\n",
    "\n",
    "    if carbon_model == 'box diffusion':\n",
    "        box_diffusion_results = box_diffusion_model(\n",
    "            emission_vals, \n",
    "            dt, \n",
    "            DZ, \n",
    "            MIXING\n",
    "        )\n",
    "        conc['co2_ppm'] = box_diffusion_results['co2ppm']\n",
    "\n",
    "    if normalize_2000_conc == True:\n",
    "        conc['co2_ppm'] = (\n",
    "            conc['co2_ppm'] - \n",
    "            conc.loc[conc['year'] == 2000, 'co2_ppm'].min() +\n",
    "            emission_vals.loc[emission_vals['year'] == 2000, 'rcp_co2_ppm'].min()\n",
    "        )\n",
    "        conc['ch4_ppb'] = (\n",
    "            conc['ch4_ppb'] - \n",
    "            conc.loc[conc['year'] == 2000, 'ch4_ppb'].min() +\n",
    "            emission_vals.loc[emission_vals['year'] == 2000, 'rcp_ch4_ppb'].min()\n",
    "        )\n",
    "        conc['n2o_ppb'] = (\n",
    "            conc['n2o_ppb'] - \n",
    "            conc.loc[conc['year'] == 2000, 'n2o_ppb'].min() +\n",
    "            emission_vals.loc[emission_vals['year'] == 2000, 'rcp_n2o_ppb'].min()\n",
    "        )\n",
    "\n",
    "    forcing = calc_radiative_forcing(conc)\n",
    "    warming = continuous_diffusion_model(forcing, run_years, dt, c_sens)\n",
    "    return warming\n",
    "\n",
    "results = run_simmod(run_start_year, run_end_year, dt, rcp, c_sens)\n",
    "results.to_csv('results/simmod_run_'+rcp+' '+carbon_model+'.csv')"
   ]
  },
  {
   "cell_type": "code",
   "execution_count": null,
   "metadata": {},
   "outputs": [],
   "source": []
  }
 ],
 "metadata": {
  "kernelspec": {
   "display_name": "Python 3",
   "language": "python",
   "name": "python3"
  },
  "language_info": {
   "codemirror_mode": {
    "name": "ipython",
    "version": 3
   },
   "file_extension": ".py",
   "mimetype": "text/x-python",
   "name": "python",
   "nbconvert_exporter": "python",
   "pygments_lexer": "ipython3",
   "version": "3.6.5"
  }
 },
 "nbformat": 4,
 "nbformat_minor": 2
}
