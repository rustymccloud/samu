{
 "cells": [
  {
   "cell_type": "code",
   "execution_count": 17,
   "metadata": {},
   "outputs": [],
   "source": [
    "from lxml import html  \n",
    "import json\n",
    "import requests\n",
    "#from exceptions import ValueError\n",
    "from time import sleep\n",
    "import re,urllib\n",
    "import argparse"
   ]
  },
  {
   "cell_type": "code",
   "execution_count": 43,
   "metadata": {},
   "outputs": [],
   "source": [
    "%run yelp-scraper.py"
   ]
  },
  {
   "cell_type": "code",
   "execution_count": 45,
   "metadata": {},
   "outputs": [
    {
     "name": "stderr",
     "output_type": "stream",
     "text": [
      "C:\\Users\\brett.block\\AppData\\Local\\Continuum\\anaconda3\\lib\\site-packages\\urllib3\\connectionpool.py:858: InsecureRequestWarning: Unverified HTTPS request is being made. Adding certificate verification is strongly advised. See: https://urllib3.readthedocs.io/en/latest/advanced-usage.html#ssl-warnings\n",
      "  InsecureRequestWarning)\n"
     ]
    },
    {
     "name": "stdout",
     "output_type": "stream",
     "text": [
      "Parsing the page\n"
     ]
    },
    {
     "data": {
      "text/plain": [
       "{'working_hours': [{'Mon': '10:00 am - 7:00 pm'},\n",
       "  {'Tue': '10:00 am - 7:00 pm'},\n",
       "  {'Wed': '10:00 am - 7:00 pm'},\n",
       "  {'Thu': '10:00 am - 7:00 pm\\n        \\n                Open now'},\n",
       "  {'Fri': '10:00 am - 7:00 pm'},\n",
       "  {'Sat': '10:00 am - 6:00 pm'},\n",
       "  {'Sun': '11:00 am - 5:00 pm'},\n",
       "  {'Mon 12/24/2018': '10:00 am - 2:00 pm'},\n",
       "  {'Tue 12/25/2018': 'Closed'},\n",
       "  {'Wed 12/26/2018': 'Closed'},\n",
       "  {'Mon 12/31/2018': '10:00 am - 2:00 pm'},\n",
       "  {'Tue 1/1/2019': 'Closed'}],\n",
       " 'info': [{'Accepts Credit Cards': 'Yes'},\n",
       "  {'Accepts Apple Pay': 'No'},\n",
       "  {'Accepts Google Pay': 'No'},\n",
       "  {'Accepts Bitcoin': 'No'},\n",
       "  {'Parking': 'Street, Private Lot'},\n",
       "  {'Bike Parking': 'Yes'},\n",
       "  {'Wheelchair Accessible': 'Yes'},\n",
       "  {'Wi-Fi': 'Free'},\n",
       "  {'By Appointment Only': 'No'}],\n",
       " 'ratings_histogram': [{'5 stars': '76'},\n",
       "  {'4 stars': '13'},\n",
       "  {'3 stars': '4'},\n",
       "  {'2 stars': '4'},\n",
       "  {'1 star': '9'}],\n",
       " 'name': 'Clippers',\n",
       " 'phone': '(805) 783-2887',\n",
       " 'ratings': '4.5',\n",
       " 'address': '1351 Monterey St San Luis Obispo, CA 93401',\n",
       " 'health_rating': '',\n",
       " 'price_range': 'Moderate',\n",
       " 'claimed_status': 'Claimed',\n",
       " 'reviews': '106 reviews',\n",
       " 'category': 'Barbers',\n",
       " 'website': 'http://clippersbarber.com',\n",
       " 'latitude': '35.284646',\n",
       " 'longitude': '-120.656144',\n",
       " 'url': 'https://www.yelp.com/biz/clippers-san-luis-obispo-2?osq=clippers'}"
      ]
     },
     "execution_count": 45,
     "metadata": {},
     "output_type": "execute_result"
    }
   ],
   "source": [
    "url = \"https://www.yelp.com/biz/clippers-san-luis-obispo-2?osq=clippers\"\n",
    "parse(url)"
   ]
  },
  {
   "cell_type": "raw",
   "metadata": {},
   "source": [
    "if __name__==\"__main__\":\n",
    "\targparser = argparse.ArgumentParser()\n",
    "\targparser.add_argument('url',help = 'yelp bussiness url')\n",
    "\targs = argparser.parse_args()\n",
    "\turl = args.url\n",
    "\tscraped_data = parse(url)\n",
    "\tyelp_id = url.split('/')[-1]\n",
    "\twith open(\"scraped_data-%s.json\"%(yelp_id),'w') as fp:\n",
    "\t\tjson.dump(scraped_data,fp,indent=4)"
   ]
  }
 ],
 "metadata": {
  "kernelspec": {
   "display_name": "Python 3",
   "language": "python",
   "name": "python3"
  },
  "language_info": {
   "codemirror_mode": {
    "name": "ipython",
    "version": 3
   },
   "file_extension": ".py",
   "mimetype": "text/x-python",
   "name": "python",
   "nbconvert_exporter": "python",
   "pygments_lexer": "ipython3",
   "version": "3.6.5"
  }
 },
 "nbformat": 4,
 "nbformat_minor": 2
}
