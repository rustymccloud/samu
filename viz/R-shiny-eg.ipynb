{
 "cells": [
  {
   "cell_type": "code",
   "execution_count": null,
   "metadata": {},
   "outputs": [
    {
     "name": "stderr",
     "output_type": "stream",
     "text": [
      "Warning message:\n",
      "\"package 'plotly' was built under R version 3.5.3\"Loading required package: ggplot2\n",
      "\n",
      "Attaching package: 'plotly'\n",
      "\n",
      "The following object is masked from 'package:ggplot2':\n",
      "\n",
      "    last_plot\n",
      "\n",
      "The following object is masked from 'package:stats':\n",
      "\n",
      "    filter\n",
      "\n",
      "The following object is masked from 'package:graphics':\n",
      "\n",
      "    layout\n",
      "\n",
      "\n",
      "Listening on http://127.0.0.1:7484\n",
      "No scatter3d mode specifed:\n",
      "  Setting the mode to markers\n",
      "  Read more about this attribute -> https://plot.ly/r/reference/#scatter-mode\n"
     ]
    }
   ],
   "source": [
    "library(plotly)\n",
    "library(shiny)\n",
    "\n",
    "ui <- fluidPage(\n",
    "  plotlyOutput(\"plot\"),\n",
    "  verbatimTextOutput(\"hover\"),\n",
    "  verbatimTextOutput(\"click\")\n",
    ")\n",
    "\n",
    "server <- function(input, output, session) {\n",
    "\n",
    "  output$plot <- renderPlotly({\n",
    "    plot_ly(x = rnorm(10), y = rnorm(10), z = rnorm(10), type = \"scatter3d\")\n",
    "  })\n",
    "\n",
    "  output$hover <- renderPrint({\n",
    "    d <- event_data(\"plotly_hover\")\n",
    "    if (is.null(d)) \"Hover events appear here (unhover to clear)\" else d\n",
    "  })\n",
    "\n",
    "  output$click <- renderPrint({\n",
    "    d <- event_data(\"plotly_click\")\n",
    "    if (is.null(d)) \"Click events appear here (double-click to clear)\" else d\n",
    "  })\n",
    "\n",
    "}\n",
    "\n",
    "shinyApp(ui, server)"
   ]
  },
  {
   "cell_type": "code",
   "execution_count": null,
   "metadata": {},
   "outputs": [],
   "source": []
  }
 ],
 "metadata": {
  "kernelspec": {
   "display_name": "R",
   "language": "R",
   "name": "ir"
  },
  "language_info": {
   "codemirror_mode": "r",
   "file_extension": ".r",
   "mimetype": "text/x-r-source",
   "name": "R",
   "pygments_lexer": "r",
   "version": "3.5.2"
  }
 },
 "nbformat": 4,
 "nbformat_minor": 2
}
