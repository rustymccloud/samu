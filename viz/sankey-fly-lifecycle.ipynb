{
 "cells": [
  {
   "cell_type": "code",
   "execution_count": 27,
   "metadata": {},
   "outputs": [
    {
     "data": {
      "text/html": [
       "<script>requirejs.config({paths: { 'plotly': ['https://cdn.plot.ly/plotly-latest.min']},});if(!window.Plotly) {{require(['plotly'],function(plotly) {window.Plotly=plotly;});}}</script>"
      ],
      "text/vnd.plotly.v1+html": [
       "<script>requirejs.config({paths: { 'plotly': ['https://cdn.plot.ly/plotly-latest.min']},});if(!window.Plotly) {{require(['plotly'],function(plotly) {window.Plotly=plotly;});}}</script>"
      ]
     },
     "metadata": {},
     "output_type": "display_data"
    }
   ],
   "source": [
    "import json, urllib\n",
    "from plotly.offline import download_plotlyjs, init_notebook_mode, plot, iplot\n",
    "import plotly.graph_objs as go\n",
    "import plotly.offline as po\n",
    "import pandas as pd\n",
    "import numpy as np\n",
    "init_notebook_mode(connected=True)\n",
    "from IPython.core.display import HTML\n"
   ]
  },
  {
   "cell_type": "code",
   "execution_count": 28,
   "metadata": {},
   "outputs": [],
   "source": [
    "sankey_df = pd.read_csv('hqc-sankey.csv')"
   ]
  },
  {
   "cell_type": "code",
   "execution_count": 29,
   "metadata": {},
   "outputs": [],
   "source": [
    "sankey_df['ratio'] = sankey_df['count']/5430.0\n",
    "#sankey_df['ratio'].to_string(formatters={'var1': '{:,.2f}'.format,\n",
    "label_df = sankey_df.groupby(['end_status', 'target'])['ratio'].sum().reset_index().sort_values(by=['target'])\n",
    "pd.options.display.float_format = '{:.2f}%'.format"
   ]
  },
  {
   "cell_type": "code",
   "execution_count": 30,
   "metadata": {
    "scrolled": false
   },
   "outputs": [
    {
     "name": "stdout",
     "output_type": "stream",
     "text": [
      "file://C:\\Users\\brett.block\\Documents\\Repos\\data-science\\various\\lifecycle-sankey.html\n"
     ]
    }
   ],
   "source": [
    "data_trace = dict(\n",
    "    type='sankey',\n",
    "    domain = dict(\n",
    "      x =  [0,1],\n",
    "      y =  [0,1]\n",
    "    ),\n",
    "    orientation = \"h\",\n",
    "    valueformat = \".0f\",\n",
    "    node = dict(\n",
    "      pad = 10,\n",
    "      thickness = 30,\n",
    "      line = dict(\n",
    "        color = \"black\",\n",
    "        width = 0\n",
    "      ),\n",
    "        font = dict(\n",
    "      size = 20,\n",
    "        color = '#ffffff'\n",
    "    ),\n",
    "      label = [\n",
    "'Pupae',\n",
    "'Death',  \n",
    "'Death',            \n",
    "'Metamorphose',\n",
    "'Pupae',\n",
    "'Death',            \n",
    "'Metamorphose',\n",
    "'Pupae'],\n",
    "color = ['#32b3bf',\n",
    "              '#ff6f69',\n",
    "         '#ff6f69',\n",
    "         '#ffcc5c',\n",
    "         '#32b3bf',\n",
    "         '#ff6f69',\n",
    "         '#ffcc5c',\n",
    "         '#32b3bf']\n",
    ",\n",
    "      #color = sankey_df['Color']\n",
    "    ),\n",
    "    link = dict(\n",
    "      source = sankey_df['source'].dropna(axis=0, how='any'),\n",
    "      target = sankey_df['target'].dropna(axis=0, how='any'),\n",
    "      value = sankey_df['count'].dropna(axis=0, how='any'),\n",
    "      #color = sankey_df['Color'],\n",
    "  )\n",
    ")\n",
    "\n",
    "layout =  dict(\n",
    "    title = \"Lifecycle of the Fly\",\n",
    "    height = 480,\n",
    "    paper_bgcolor='rgb(58,69,73)',\n",
    "    plot_bgcolor='rgb(58,69,73)',\n",
    "    font = dict(\n",
    "      size = 10,\n",
    "        color = '#ffffff'\n",
    "    ),    \n",
    ")\n",
    "\n",
    "fig = dict(data=[data_trace], layout=layout)\n",
    "print(po.plot(fig, validate=False, filename = 'lifecycle-sankey.html', show_link=False))"
   ]
  },
  {
   "cell_type": "markdown",
   "metadata": {},
   "source": [
    "[View sankey output here](http://htmlpreview.github.io/?https://github.com/rustymccloud/samu/blob/master/viz/lifecycle-sankey.html)"
   ]
  }
 ],
 "metadata": {
  "kernelspec": {
   "display_name": "Python 3",
   "language": "python",
   "name": "python3"
  },
  "language_info": {
   "codemirror_mode": {
    "name": "ipython",
    "version": 3
   },
   "file_extension": ".py",
   "mimetype": "text/x-python",
   "name": "python",
   "nbconvert_exporter": "python",
   "pygments_lexer": "ipython3",
   "version": "3.7.1"
  }
 },
 "nbformat": 4,
 "nbformat_minor": 2
}
