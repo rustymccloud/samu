{
 "cells": [
  {
   "cell_type": "code",
   "execution_count": 1,
   "metadata": {},
   "outputs": [
    {
     "data": {
      "text/html": [
       "<script>requirejs.config({paths: { 'plotly': ['https://cdn.plot.ly/plotly-latest.min']},});if(!window.Plotly) {{require(['plotly'],function(plotly) {window.Plotly=plotly;});}}</script>"
      ],
      "text/vnd.plotly.v1+html": [
       "<script>requirejs.config({paths: { 'plotly': ['https://cdn.plot.ly/plotly-latest.min']},});if(!window.Plotly) {{require(['plotly'],function(plotly) {window.Plotly=plotly;});}}</script>"
      ]
     },
     "metadata": {},
     "output_type": "display_data"
    }
   ],
   "source": [
    "import json, urllib\n",
    "from plotly.offline import download_plotlyjs, init_notebook_mode, plot, iplot\n",
    "import plotly.graph_objs as go\n",
    "import pandas as pd\n",
    "import numpy as np\n",
    "init_notebook_mode(connected=True)"
   ]
  },
  {
   "cell_type": "code",
   "execution_count": 2,
   "metadata": {},
   "outputs": [],
   "source": [
    "sankey_df = pd.read_csv('lifecycle-sankey.csv')"
   ]
  },
  {
   "cell_type": "code",
   "execution_count": 3,
   "metadata": {},
   "outputs": [],
   "source": [
    "sankey_df['ratio'] = sankey_df['count']/5430.0\n",
    "#sankey_df['ratio'].to_string(formatters={'var1': '{:,.2f}'.format,\n",
    "label_df = sankey_df.groupby(['end_status', 'target'])['ratio'].sum().reset_index().sort_values(by=['target'])\n",
    "pd.options.display.float_format = '{:.2f}%'.format"
   ]
  },
  {
   "cell_type": "code",
   "execution_count": 4,
   "metadata": {
    "scrolled": true
   },
   "outputs": [
    {
     "data": {
      "application/vnd.plotly.v1+json": {
       "data": [
        {
         "domain": {
          "x": [
           0,
           1
          ],
          "y": [
           0,
           1
          ]
         },
         "link": {
          "source": [
           0,
           0,
           0,
           1,
           3,
           4,
           2,
           4,
           3,
           3,
           4
          ],
          "target": [
           2,
           3,
           4,
           2,
           5,
           5,
           5,
           6,
           6,
           7,
           7
          ],
          "value": [
           1062,
           169,
           4109,
           90,
           2,
           676,
           1152,
           389,
           164,
           3,
           3044
          ]
         },
         "node": {
          "color": [
           "#32b3bf",
           "#ff6f69",
           "#ff6f69",
           "#ffcc5c",
           "#32b3bf",
           "#ff6f69",
           "#ffcc5c",
           "#32b3bf"
          ],
          "font": {
           "color": "#ffffff",
           "size": 20
          },
          "label": [
           "Pupae",
           "Death",
           "Death",
           "Metamorphose",
           "Pupae",
           "Death",
           "Metamorphose",
           "Pupae"
          ],
          "line": {
           "color": "black",
           "width": 0
          },
          "pad": 10,
          "thickness": 30
         },
         "orientation": "h",
         "type": "sankey",
         "valueformat": ".0f"
        }
       ],
       "layout": {
        "font": {
         "color": "#ffffff",
         "size": 10
        },
        "height": 480,
        "paper_bgcolor": "rgba(0,0,0,0)",
        "plot_bgcolor": "rgba(0,0,0,0)",
        "title": "HQC Pipeline"
       }
      },
      "text/html": [
       "<div id=\"f51d71a7-e163-4c06-bc8b-9a1dd37861d5\" style=\"height: 480px; width: 100%;\" class=\"plotly-graph-div\"></div><script type=\"text/javascript\">require([\"plotly\"], function(Plotly) { window.PLOTLYENV=window.PLOTLYENV || {};window.PLOTLYENV.BASE_URL=\"https://plot.ly\";Plotly.newPlot(\"f51d71a7-e163-4c06-bc8b-9a1dd37861d5\", [{\"type\": \"sankey\", \"domain\": {\"x\": [0, 1], \"y\": [0, 1]}, \"orientation\": \"h\", \"valueformat\": \".0f\", \"node\": {\"pad\": 10, \"thickness\": 30, \"line\": {\"color\": \"black\", \"width\": 0}, \"font\": {\"size\": 20, \"color\": \"#ffffff\"}, \"label\": [\"Pupae\", \"Death\", \"Death\", \"Metamorphose\", \"Pupae\", \"Death\", \"Metamorphose\", \"Pupae\"], \"color\": [\"#32b3bf\", \"#ff6f69\", \"#ff6f69\", \"#ffcc5c\", \"#32b3bf\", \"#ff6f69\", \"#ffcc5c\", \"#32b3bf\"]}, \"link\": {\"source\": [0, 0, 0, 1, 3, 4, 2, 4, 3, 3, 4], \"target\": [2, 3, 4, 2, 5, 5, 5, 6, 6, 7, 7], \"value\": [1062, 169, 4109, 90, 2, 676, 1152, 389, 164, 3, 3044]}}], {\"title\": \"HQC Pipeline\", \"height\": 480, \"paper_bgcolor\": \"rgba(0,0,0,0)\", \"plot_bgcolor\": \"rgba(0,0,0,0)\", \"font\": {\"size\": 10, \"color\": \"#ffffff\"}}, {\"showLink\": false, \"linkText\": \"Export to plot.ly\"})});</script>"
      ],
      "text/vnd.plotly.v1+html": [
       "<div id=\"f51d71a7-e163-4c06-bc8b-9a1dd37861d5\" style=\"height: 480px; width: 100%;\" class=\"plotly-graph-div\"></div><script type=\"text/javascript\">require([\"plotly\"], function(Plotly) { window.PLOTLYENV=window.PLOTLYENV || {};window.PLOTLYENV.BASE_URL=\"https://plot.ly\";Plotly.newPlot(\"f51d71a7-e163-4c06-bc8b-9a1dd37861d5\", [{\"type\": \"sankey\", \"domain\": {\"x\": [0, 1], \"y\": [0, 1]}, \"orientation\": \"h\", \"valueformat\": \".0f\", \"node\": {\"pad\": 10, \"thickness\": 30, \"line\": {\"color\": \"black\", \"width\": 0}, \"font\": {\"size\": 20, \"color\": \"#ffffff\"}, \"label\": [\"Pupae\", \"Death\", \"Death\", \"Metamorphose\", \"Pupae\", \"Death\", \"Metamorphose\", \"Pupae\"], \"color\": [\"#32b3bf\", \"#ff6f69\", \"#ff6f69\", \"#ffcc5c\", \"#32b3bf\", \"#ff6f69\", \"#ffcc5c\", \"#32b3bf\"]}, \"link\": {\"source\": [0, 0, 0, 1, 3, 4, 2, 4, 3, 3, 4], \"target\": [2, 3, 4, 2, 5, 5, 5, 6, 6, 7, 7], \"value\": [1062, 169, 4109, 90, 2, 676, 1152, 389, 164, 3, 3044]}}], {\"title\": \"HQC Pipeline\", \"height\": 480, \"paper_bgcolor\": \"rgba(0,0,0,0)\", \"plot_bgcolor\": \"rgba(0,0,0,0)\", \"font\": {\"size\": 10, \"color\": \"#ffffff\"}}, {\"showLink\": false, \"linkText\": \"Export to plot.ly\"})});</script>"
      ]
     },
     "metadata": {},
     "output_type": "display_data"
    }
   ],
   "source": [
    "data_trace = dict(\n",
    "    type='sankey',\n",
    "    domain = dict(\n",
    "      x =  [0,1],\n",
    "      y =  [0,1]\n",
    "    ),\n",
    "    orientation = \"h\",\n",
    "    valueformat = \".0f\",\n",
    "    node = dict(\n",
    "      pad = 10,\n",
    "      thickness = 30,\n",
    "      line = dict(\n",
    "        color = \"black\",\n",
    "        width = 0\n",
    "      ),\n",
    "        font = dict(\n",
    "      size = 20,\n",
    "        color = '#ffffff'\n",
    "    ),\n",
    "      label = [\n",
    "'Pupae',\n",
    "'Death',  \n",
    "'Death',            \n",
    "'Metamorphose',\n",
    "'Pupae',\n",
    "'Death',            \n",
    "'Metamorphose',\n",
    "'Pupae'],\n",
    "color = ['#32b3bf',\n",
    "              '#ff6f69',\n",
    "         '#ff6f69',\n",
    "         '#ffcc5c',\n",
    "         '#32b3bf',\n",
    "         '#ff6f69',\n",
    "         '#ffcc5c',\n",
    "         '#32b3bf']\n",
    ",\n",
    "      #color = sankey_df['Color']\n",
    "    ),\n",
    "    link = dict(\n",
    "      source = sankey_df['source'].dropna(axis=0, how='any'),\n",
    "      target = sankey_df['target'].dropna(axis=0, how='any'),\n",
    "      value = sankey_df['count'].dropna(axis=0, how='any'),\n",
    "      #color = sankey_df['Color'],\n",
    "  )\n",
    ")\n",
    "\n",
    "layout =  dict(\n",
    "    title = \"HQC Pipeline\",\n",
    "    height = 480,\n",
    "    paper_bgcolor='rgba(0,0,0,0)',\n",
    "    plot_bgcolor='rgba(0,0,0,0)',\n",
    "    font = dict(\n",
    "      size = 10,\n",
    "        color = '#ffffff'\n",
    "    ),    \n",
    ")\n",
    "\n",
    "fig = dict(data=[data_trace], layout=layout)\n",
    "iplot(fig, validate=False, filename = 'hqc_pipeline.html', show_link=False)"
   ]
  },
  {
   "cell_type": "code",
   "execution_count": null,
   "metadata": {},
   "outputs": [],
   "source": []
  }
 ],
 "metadata": {
  "kernelspec": {
   "display_name": "Python 3",
   "language": "python",
   "name": "python3"
  },
  "language_info": {
   "codemirror_mode": {
    "name": "ipython",
    "version": 3
   },
   "file_extension": ".py",
   "mimetype": "text/x-python",
   "name": "python",
   "nbconvert_exporter": "python",
   "pygments_lexer": "ipython3",
   "version": "3.6.5"
  }
 },
 "nbformat": 4,
 "nbformat_minor": 2
}
